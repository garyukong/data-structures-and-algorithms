{
 "cells": [
  {
   "cell_type": "markdown",
   "metadata": {
    "graffitiCellId": "id_0ojz955"
   },
   "source": [
    "# Dijkstra's Algorithm\n",
    "In the \"Greedy Algorithms\" lesson, we implemented the **Dijkstra's Algorithm** to find the distance of each node from the given source node. In this exercise, you'll implement the same **Dijkstra's algorithm to find the length of the shortest path between a given pair of nodes,** but this time we will have a better time complexity. First, let's build the graph.\n",
    "\n",
    "## Graph Representation\n",
    "In order to run Dijkstra's Algorithm, we'll need to add distance to each edge. We'll use the `GraphEdge` class below to represent each edge between a pair of nodes. You are free to create your own implementation of an undirected graph. "
   ]
  },
  {
   "cell_type": "code",
   "execution_count": 115,
   "metadata": {
    "graffitiCellId": "id_popacit"
   },
   "outputs": [],
   "source": [
    "# Helper Class\n",
    "class GraphEdge(object):\n",
    "    def __init__(self, destinationNode, distance):\n",
    "        self.node = destinationNode\n",
    "        self.distance = distance\n",
    "\n",
    "    def __repr__(self):\n",
    "        return self.node.value"
   ]
  },
  {
   "cell_type": "markdown",
   "metadata": {
    "graffitiCellId": "id_ljgv5p0"
   },
   "source": [
    "The new graph representation should look like this:"
   ]
  },
  {
   "cell_type": "code",
   "execution_count": 117,
   "metadata": {
    "graffitiCellId": "id_llarxxs"
   },
   "outputs": [],
   "source": [
    "# Helper Classes\n",
    "class GraphNode(object):\n",
    "    def __init__(self, val):\n",
    "        self.value = val\n",
    "        self.edges = []\n",
    "\n",
    "    def add_child(self, node, distance):\n",
    "        self.edges.append(GraphEdge(node, distance))\n",
    "\n",
    "    def remove_child(self, del_node):\n",
    "        if del_node in self.edges:\n",
    "            self.edges.remove(del_node)\n",
    "\n",
    "    def __repr__(self):\n",
    "        return self.value\n",
    "\n",
    "class Graph(object):\n",
    "    def __init__(self, node_list):\n",
    "        self.nodes = node_list\n",
    "\n",
    "    # adds an edge between node1 and node2 in both directions\n",
    "    def add_edge(self, node1, node2, distance):\n",
    "        if node1 in self.nodes and node2 in self.nodes:\n",
    "            node1.add_child(node2, distance)\n",
    "            node2.add_child(node1, distance)\n",
    "\n",
    "    def remove_edge(self, node1, node2):\n",
    "        if node1 in self.nodes and node2 in self.nodes:\n",
    "            node1.remove_child(node2)\n",
    "            node2.remove_child(node1)\n",
    "\n",
    "    def __len__(self):\n",
    "        return len(self.nodes)"
   ]
  },
  {
   "cell_type": "markdown",
   "metadata": {
    "graffitiCellId": "id_v79ttrc"
   },
   "source": [
    "### Exercise - Write the function definition here\n",
    "Using what you've learned, implement Dijkstra's Algorithm "
   ]
  },
  {
   "cell_type": "code",
   "execution_count": 307,
   "metadata": {},
   "outputs": [],
   "source": [
    "class Heap:\n",
    "    def __init__(self, initial_size=10):\n",
    "        self.cbt = [None for _ in range(initial_size)]  # initialize arrays\n",
    "        self.next_index = 0  # denotes next index where new element should go\n",
    "\n",
    "    def enq(self, node):\n",
    "        # insert element at the next index\n",
    "        self.cbt[self.next_index] = node\n",
    "\n",
    "        # heapify\n",
    "        self._up_heapify()\n",
    "\n",
    "        # increase index by 1\n",
    "        self.next_index += 1\n",
    "\n",
    "        # double the array and copy elements if next_index goes out of array bounds\n",
    "        if self.next_index >= len(self.cbt):\n",
    "            temp = self.cbt\n",
    "            self.cbt = [None for _ in range(2 * len(self.cbt))]\n",
    "\n",
    "            for index in range(self.next_index):\n",
    "                self.cbt[index] = temp[index]\n",
    "\n",
    "    def deq(self):\n",
    "        if self.size() == 0:\n",
    "            return None\n",
    "        self.next_index -= 1\n",
    "\n",
    "        to_remove = self.cbt[0]\n",
    "        last_element = self.cbt[self.next_index]\n",
    "\n",
    "        # place last element of the cbt at the root\n",
    "        self.cbt[0] = last_element\n",
    "\n",
    "        # we do not remove the elementm, rather we allow next `insert` operation to overwrite it\n",
    "        self.cbt[self.next_index] = to_remove\n",
    "        self._down_heapify()\n",
    "        return to_remove\n",
    "\n",
    "    def size(self):\n",
    "        return self.next_index \n",
    "\n",
    "    def is_empty(self):\n",
    "        return self.size() == 0\n",
    "\n",
    "    def _up_heapify(self):\n",
    "        child_index = self.next_index\n",
    "\n",
    "        while child_index >= 1:\n",
    "            parent_index = (child_index - 1) // 2\n",
    "            parent_element = self.cbt[parent_index]\n",
    "            child_element = self.cbt[child_index]\n",
    "\n",
    "            if parent_element.distance > child_element.distance:\n",
    "                self.cbt[parent_index] = child_element\n",
    "                self.cbt[child_index] = parent_element\n",
    "\n",
    "                child_index = parent_index\n",
    "            else:\n",
    "                break\n",
    "\n",
    "    def _down_heapify(self):\n",
    "        parent_index = 0\n",
    "\n",
    "        while parent_index < self.next_index:\n",
    "            left_child_index = 2 * parent_index + 1\n",
    "            right_child_index = 2 * parent_index + 2\n",
    "\n",
    "            parent = self.cbt[parent_index]\n",
    "            left_child = None\n",
    "            right_child = None\n",
    "\n",
    "            min_element = parent\n",
    "\n",
    "            # check if left child exists\n",
    "            if left_child_index < self.next_index:\n",
    "                left_child = self.cbt[left_child_index]\n",
    "\n",
    "            # check if right child exists\n",
    "            if right_child_index < self.next_index:\n",
    "                right_child = self.cbt[right_child_index]\n",
    "\n",
    "            # compare with left child\n",
    "            if left_child is not None:\n",
    "                if parent.distance < left_child.distance:\n",
    "                    min_element = parent\n",
    "                else:\n",
    "                    min_element = left_child\n",
    "\n",
    "            # compare with right child\n",
    "            if right_child is not None:\n",
    "                if right_child.distance < left_child.distance:\n",
    "                    min_element = right_child\n",
    "                else:\n",
    "                    min_element = min_element\n",
    "\n",
    "            # check if parent is rightly placed\n",
    "            if min_element == parent:\n",
    "                return\n",
    "\n",
    "            if min_element == left_child:\n",
    "                self.cbt[left_child_index] = parent\n",
    "                self.cbt[parent_index] = min_element\n",
    "                parent = left_child_index\n",
    "\n",
    "            elif min_element == right_child:\n",
    "                self.cbt[right_child_index] = parent\n",
    "                self.cbt[parent_index] = min_element\n",
    "                parent = right_child_index\n",
    "\n",
    "    def get_minimum(self):\n",
    "        # Returns the minimum element present in the heap\n",
    "        if self.size() == 0:\n",
    "            return None\n",
    "        return self.cbt[0]\n",
    "\n",
    "    def print(self):\n",
    "        print('\\nTOP OF QUEUE')\n",
    "        for node in self.cbt:\n",
    "            if node:\n",
    "                print(node.node, node.distance)\n",
    "        print('BOTTOM OF QUEUE')"
   ]
  },
  {
   "cell_type": "code",
   "execution_count": 324,
   "metadata": {
    "graffitiCellId": "id_zx9fvl9"
   },
   "outputs": [
    {
     "name": "stdout",
     "output_type": "stream",
     "text": [
      "----------------------------------------------------------------------------------------------------\n",
      "Current node: U\n",
      "Current node edges: [A, C, D]\n",
      "Current edge: A\n",
      "The distance from U to A is 4\n",
      "Current edge: C\n",
      "The distance from U to C is 6\n",
      "Current edge: D\n",
      "The distance from U to D is 3\n",
      "\n",
      "Distances: {U: 0, D: 3, A: 4, C: 6, I: 9223372036854775807, T: 9223372036854775807, Y: 9223372036854775807}\n",
      "Visited: {U}\n",
      "----------------------------------------------------------------------------------------------------\n",
      "Current node: D\n",
      "Current node edges: [U, C]\n",
      "Current edge: U\n",
      "The distance from U to U is 6\n",
      "Current edge: C\n",
      "The distance from U to C is 7\n",
      "\n",
      "Distances: {U: 0, D: 3, A: 4, C: 6, I: 9223372036854775807, T: 9223372036854775807, Y: 9223372036854775807}\n",
      "Visited: {D, U}\n",
      "----------------------------------------------------------------------------------------------------\n",
      "Current node: A\n",
      "Current node edges: [U, I]\n",
      "Current edge: U\n",
      "The distance from U to U is 8\n",
      "Current edge: I\n",
      "The distance from U to I is 11\n",
      "\n",
      "Distances: {U: 0, D: 3, A: 4, C: 6, I: 11, T: 9223372036854775807, Y: 9223372036854775807}\n",
      "Visited: {D, U, A}\n",
      "----------------------------------------------------------------------------------------------------\n",
      "Current node: C\n",
      "Current node edges: [U, D, I, T]\n",
      "Current edge: U\n",
      "The distance from U to U is 12\n",
      "Current edge: D\n",
      "The distance from U to D is 10\n",
      "Current edge: I\n",
      "The distance from U to I is 10\n",
      "Current edge: T\n",
      "The distance from U to T is 11\n",
      "\n",
      "Distances: {U: 0, D: 3, A: 4, C: 6, I: 10, T: 11, Y: 9223372036854775807}\n",
      "Visited: {D, U, A, C}\n",
      "----------------------------------------------------------------------------------------------------\n",
      "Current node: T\n",
      "Current node edges: [C, Y]\n",
      "Current edge: C\n",
      "The distance from U to C is 16\n",
      "Current edge: Y\n",
      "The distance from U to Y is 16\n",
      "\n",
      "Distances: {U: 0, D: 3, A: 4, C: 6, I: 10, T: 11, Y: 16}\n",
      "Visited: {D, A, U, C, T}\n",
      "----------------------------------------------------------------------------------------------------\n",
      "Current node: Y\n",
      "Current node edges: [I, T]\n",
      "Current edge: I\n",
      "The distance from U to I is 20\n",
      "Current edge: T\n",
      "The distance from U to T is 21\n",
      "\n",
      "Distances: {U: 0, D: 3, A: 4, C: 6, I: 10, T: 11, Y: 16}\n",
      "Visited: {D, Y, A, U, C, T}\n",
      "----------------------------------------------------------------------------------------------------\n",
      "Current node: I\n",
      "Current node edges: [A, C, Y]\n",
      "Current edge: A\n",
      "The distance from U to A is 17\n",
      "Current edge: C\n",
      "The distance from U to C is 14\n",
      "Current edge: Y\n",
      "The distance from U to Y is 14\n",
      "\n",
      "Distances: {U: 0, D: 3, A: 4, C: 6, I: 10, T: 11, Y: 14}\n",
      "Visited: {I, D, Y, A, U, C, T}\n"
     ]
    },
    {
     "data": {
      "text/plain": [
       "14"
      ]
     },
     "execution_count": 324,
     "metadata": {},
     "output_type": "execute_result"
    }
   ],
   "source": [
    "## WITH ANNOTATIONS\n",
    "import math\n",
    "import sys\n",
    "\n",
    "def dijkstra(graph, start_node, end_node):\n",
    "\n",
    "    # Create distances dictionary to store shortest path distances for each node, setting source at 0 and others at infinity\n",
    "    distances = {key : sys.maxsize for key in graph.nodes}\n",
    "    distances[start_node] = 0\n",
    "    \n",
    "    # Create an unvisited set to keep track of nodes that have not been visited\n",
    "    visited = set()\n",
    "    explored = list()\n",
    "    current_node = None\n",
    "    q = Heap()\n",
    "\n",
    "    # Repeat until all nodes have been visited:\n",
    "    while len(visited) < len(graph):\n",
    "        print('-'*100)\n",
    "\n",
    "        # Set the current node as the node with smallest value\n",
    "        if current_node is None:\n",
    "            current_node = start_node\n",
    "            explored.append(current_node)\n",
    "        else:\n",
    "            current_node = q.deq().node\n",
    "        \n",
    "        print(f'Current node: {current_node}')\n",
    "        print(f'Current node edges: {current_node.edges}')\n",
    "\n",
    "        # Find all edges of the current node\n",
    "        for edge in current_node.edges:\n",
    "            print(f'Current edge: {edge}')\n",
    "       \n",
    "            # Enqueue each edge\n",
    "            if edge.node not in explored:\n",
    "                q.enq(edge)\n",
    "                explored.append(edge.node)\n",
    "    \n",
    "            # Update values in the distances dictionary\n",
    "            distance = distances[current_node] + edge.distance\n",
    "            print(f'The distance from {start_node} to {edge.node} is {distance}')\n",
    "            if distance < distances[edge.node]:\n",
    "                distances[edge.node] = distance\n",
    "\n",
    "        print(f'\\nDistances: {distances}')\n",
    "\n",
    "        # Add the current node to the visited set\n",
    "        visited.add(current_node)\n",
    "        print(f'Visited: {visited}')\n",
    "        \n",
    "    # Return the distance for the end node\n",
    "    return distances[end_node]\n",
    "\n",
    "dijkstra(graph,node_u,node_y)"
   ]
  },
  {
   "cell_type": "code",
   "execution_count": 318,
   "metadata": {},
   "outputs": [
    {
     "data": {
      "text/plain": [
       "14"
      ]
     },
     "execution_count": 318,
     "metadata": {},
     "output_type": "execute_result"
    }
   ],
   "source": [
    "# CLEAN VERSION\n",
    "import math\n",
    "import sys\n",
    "\n",
    "def dijkstra(graph, start_node, end_node):\n",
    "\n",
    "    # Create distances dictionary to store shortest path distances for each node, setting source at 0 and others at infinity\n",
    "    distances = {key : sys.maxsize for key in graph.nodes}\n",
    "    distances[start_node] = 0\n",
    "    \n",
    "    # Create an unvisited set to keep track of nodes that have not been visited\n",
    "    visited = set()\n",
    "    explored = list()\n",
    "    current_node = None\n",
    "    q = Heap()\n",
    "\n",
    "    # Repeat until all nodes have been visited:\n",
    "    while len(visited) < len(graph):\n",
    "\n",
    "        # Set the current node as the node with smallest value\n",
    "        if current_node is None:\n",
    "            current_node = start_node\n",
    "            explored.append(current_node)\n",
    "        else:\n",
    "            current_node = q.deq().node\n",
    "\n",
    "        # Find all edges of the current node\n",
    "        for edge in current_node.edges:\n",
    "       \n",
    "            # Enqueue each edge that has not already been previously explored\n",
    "            if edge.node not in explored:\n",
    "                q.enq(edge)\n",
    "                explored.append(edge.node)\n",
    "    \n",
    "            # Update values in the distances dictionary\n",
    "            distance = distances[current_node] + edge.distance\n",
    "            if distance < distances[edge.node]:\n",
    "                distances[edge.node] = distance\n",
    "\n",
    "        # Add the current node to the visited set\n",
    "        visited.add(current_node)\n",
    "        \n",
    "    # Return the distance for the end node\n",
    "    return distances[end_node]\n",
    "\n",
    "dijkstra(graph,node_u,node_y)"
   ]
  },
  {
   "cell_type": "markdown",
   "metadata": {
    "graffitiCellId": "id_6vmf0hp"
   },
   "source": [
    "<span class=\"graffiti-highlight graffiti-id_6vmf0hp-id_cjtybve\"><i></i><button>Show Solution</button></span>"
   ]
  },
  {
   "cell_type": "code",
   "execution_count": 328,
   "metadata": {},
   "outputs": [
    {
     "data": {
      "text/plain": [
       "14"
      ]
     },
     "execution_count": 328,
     "metadata": {},
     "output_type": "execute_result"
    }
   ],
   "source": [
    "import math   # Need math.inf constant\n",
    "\n",
    "def dijkstra(graph, start_node, end_node):\n",
    "    # Create a dictionary that stores the distance to all nodes in the form of node:distance as key:value \n",
    "    # Assume the initial distance to all nodes is infinity.\n",
    "    # Use math.inf as a predefined constant equal to positive infinity \n",
    "    distance_dict = {node: math.inf for node in graph.nodes}\n",
    "    \n",
    "    # Build a dictionary that will store the \"shortest\" distance to all nodes, wrt the start_node\n",
    "    shortest_distance = {}\n",
    "\n",
    "    distance_dict[start_node] = 0\n",
    "    \n",
    "    while distance_dict:\n",
    "        \n",
    "        # Sort the distance_dict, and pick the key:value having smallest distance\n",
    "        current_node, node_distance = sorted(distance_dict.items(), key=lambda x: x[1])[0]\n",
    "        \n",
    "        # Remove the current node from the distance_dict, and store the same key:value in shortest_distance\n",
    "        shortest_distance[current_node] = distance_dict.pop(current_node)\n",
    "\n",
    "        # Check for each neighbour of current_node, if the distance_to_neighbour is smaller than the alreday stored distance, update the distance_dict\n",
    "        for edge in current_node.edges:\n",
    "            if edge.node in distance_dict:\n",
    "                \n",
    "                distance_to_neighbour = node_distance + edge.distance\n",
    "                if distance_dict[edge.node] > distance_to_neighbour:\n",
    "                    distance_dict[edge.node] = distance_to_neighbour\n",
    "    \n",
    "    return shortest_distance[end_node]\n",
    "\n",
    "dijkstra(graph,node_u,node_y)"
   ]
  },
  {
   "cell_type": "markdown",
   "metadata": {
    "graffitiCellId": "id_x2fp6ip"
   },
   "source": [
    "### Test - Let's test your function"
   ]
  },
  {
   "cell_type": "code",
   "execution_count": 317,
   "metadata": {
    "graffitiCellId": "id_9zgbdrn"
   },
   "outputs": [
    {
     "name": "stdout",
     "output_type": "stream",
     "text": [
      "Shortest Distance from U to Y is 14\n"
     ]
    }
   ],
   "source": [
    "# Test Case 1:\n",
    "\n",
    "# Create a graph\n",
    "node_u = GraphNode('U')\n",
    "node_d = GraphNode('D')\n",
    "node_a = GraphNode('A')\n",
    "node_c = GraphNode('C')\n",
    "node_i = GraphNode('I')\n",
    "node_t = GraphNode('T')\n",
    "node_y = GraphNode('Y')\n",
    "\n",
    "graph = Graph([node_u, node_d, node_a, node_c, node_i, node_t, node_y])\n",
    "\n",
    "# add_edge() function will add an edge between node1 and node2 in both directions\n",
    "graph.add_edge(node_u, node_a, 4)\n",
    "graph.add_edge(node_u, node_c, 6)\n",
    "graph.add_edge(node_u, node_d, 3)\n",
    "graph.add_edge(node_d, node_c, 4)\n",
    "graph.add_edge(node_a, node_i, 7)\n",
    "graph.add_edge(node_c, node_i, 4)\n",
    "graph.add_edge(node_c, node_t, 5)\n",
    "graph.add_edge(node_i, node_y, 4)\n",
    "graph.add_edge(node_t, node_y, 5)\n",
    "\n",
    "# Shortest Distance from U to Y is 14\n",
    "print('Shortest Distance from {} to {} is {}'.format(node_u.value, node_y.value, dijkstra(graph, node_u, node_y)))"
   ]
  },
  {
   "cell_type": "code",
   "execution_count": 312,
   "metadata": {
    "graffitiCellId": "id_11lz0ci"
   },
   "outputs": [
    {
     "name": "stdout",
     "output_type": "stream",
     "text": [
      "Shortest Distance from A to C is 10\n"
     ]
    }
   ],
   "source": [
    "# Test Case 2\n",
    "node_A = GraphNode('A')\n",
    "node_B = GraphNode('B')\n",
    "node_C = GraphNode('C')\n",
    "\n",
    "graph = Graph([node_A, node_B, node_C])\n",
    "\n",
    "graph.add_edge(node_A, node_B, 5)\n",
    "graph.add_edge(node_B, node_C, 5)\n",
    "graph.add_edge(node_A, node_C, 10)\n",
    "\n",
    "# Shortest Distance from A to C is 10\n",
    "print('Shortest Distance from {} to {} is {}'.format(node_A.value, node_C.value, dijkstra(graph, node_A, node_C)))"
   ]
  },
  {
   "cell_type": "code",
   "execution_count": 313,
   "metadata": {
    "graffitiCellId": "id_mkizk04"
   },
   "outputs": [
    {
     "name": "stdout",
     "output_type": "stream",
     "text": [
      "Shortest Distance from A to C is 4\n"
     ]
    }
   ],
   "source": [
    "# Test Case 3\n",
    "node_A = GraphNode('A')\n",
    "node_B = GraphNode('B')\n",
    "node_C = GraphNode('C')\n",
    "node_D = GraphNode('D')\n",
    "node_E = GraphNode('E')\n",
    "\n",
    "graph = Graph([node_A, node_B, node_C, node_D, node_E])\n",
    "\n",
    "graph.add_edge(node_A, node_B, 3)\n",
    "graph.add_edge(node_A, node_D, 2)\n",
    "graph.add_edge(node_B, node_D, 4)\n",
    "graph.add_edge(node_B, node_E, 6)\n",
    "graph.add_edge(node_B, node_C, 1)\n",
    "graph.add_edge(node_C, node_E, 2)\n",
    "graph.add_edge(node_E, node_D, 1)\n",
    "\n",
    "# Shortest Distance from A to C is 4\n",
    "print('Shortest Distance from {} to {} is {}'.format(node_A.value, node_C.value, dijkstra(graph, node_A, node_C)))"
   ]
  }
 ],
 "metadata": {
  "graffiti": {
   "firstAuthorId": "dev",
   "id": "id_xw4if85",
   "language": "EN"
  },
  "kernelspec": {
   "display_name": "Python 3",
   "language": "python",
   "name": "python3"
  },
  "language_info": {
   "codemirror_mode": {
    "name": "ipython",
    "version": 3
   },
   "file_extension": ".py",
   "mimetype": "text/x-python",
   "name": "python",
   "nbconvert_exporter": "python",
   "pygments_lexer": "ipython3",
   "version": "3.9.7"
  }
 },
 "nbformat": 4,
 "nbformat_minor": 2
}
