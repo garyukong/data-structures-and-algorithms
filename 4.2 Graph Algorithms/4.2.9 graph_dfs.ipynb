{
 "cells": [
  {
   "cell_type": "markdown",
   "metadata": {
    "graffitiCellId": "id_m8owu67"
   },
   "source": [
    "# Graph Depth First Search\n",
    "In this exercise, you'll see how to do a depth first search on a graph. To start, let's create a graph class in Python."
   ]
  },
  {
   "cell_type": "code",
   "execution_count": 31,
   "metadata": {
    "graffitiCellId": "id_ahrjg5m"
   },
   "outputs": [],
   "source": [
    "class GraphNode(object):\n",
    "    def __init__(self, val):\n",
    "        self.value = val\n",
    "        self.children = []\n",
    "        \n",
    "    def add_child(self,new_node):\n",
    "        self.children.append(new_node)\n",
    "    \n",
    "    def remove_child(self,del_node):\n",
    "        if del_node in self.children:\n",
    "            self.children.remove(del_node)\n",
    "\n",
    "    def __str__(self):\n",
    "        return self.value\n",
    "\n",
    "    def __repr__(self):\n",
    "        return self.value\n",
    "\n",
    "class Graph(object):\n",
    "    def __init__(self,node_list):\n",
    "        self.nodes = node_list\n",
    "        \n",
    "    def add_edge(self,node1,node2):\n",
    "        if(node1 in self.nodes and node2 in self.nodes):\n",
    "            node1.add_child(node2)\n",
    "            node2.add_child(node1)\n",
    "            \n",
    "    def remove_edge(self,node1,node2):\n",
    "        if(node1 in self.nodes and node2 in self.nodes):\n",
    "            node1.remove_child(node2)\n",
    "            node2.remove_child(node1)\n",
    "\n",
    "    def print(self):\n",
    "        return [f'{node.value}: {node.children}' for node in graph1.nodes]"
   ]
  },
  {
   "cell_type": "markdown",
   "metadata": {
    "graffitiCellId": "id_1gmwlh4"
   },
   "source": [
    "Now let's create the graph."
   ]
  },
  {
   "cell_type": "code",
   "execution_count": null,
   "metadata": {},
   "outputs": [],
   "source": []
  },
  {
   "cell_type": "code",
   "execution_count": 34,
   "metadata": {
    "graffitiCellId": "id_7t1mjv6"
   },
   "outputs": [
    {
     "data": {
      "text/plain": [
       "['S: [R]',\n",
       " 'H: [G, P]',\n",
       " 'G: [R, A, H]',\n",
       " 'P: [R, H]',\n",
       " 'R: [G, A, P, S]',\n",
       " 'A: [R, G]']"
      ]
     },
     "execution_count": 34,
     "metadata": {},
     "output_type": "execute_result"
    }
   ],
   "source": [
    "nodeG = GraphNode('G')\n",
    "nodeR = GraphNode('R')\n",
    "nodeA = GraphNode('A')\n",
    "nodeP = GraphNode('P')\n",
    "nodeH = GraphNode('H')\n",
    "nodeS = GraphNode('S')\n",
    "\n",
    "graph1 = Graph([nodeS,nodeH,nodeG,nodeP,nodeR,nodeA] ) \n",
    "graph1.add_edge(nodeG,nodeR)\n",
    "graph1.add_edge(nodeA,nodeR)\n",
    "graph1.add_edge(nodeA,nodeG)\n",
    "graph1.add_edge(nodeR,nodeP)\n",
    "graph1.add_edge(nodeH,nodeG)\n",
    "graph1.add_edge(nodeH,nodeP)\n",
    "graph1.add_edge(nodeS,nodeR)\n",
    "\n",
    "graph1.nodes\n",
    "\n",
    "graph1.print()"
   ]
  },
  {
   "cell_type": "code",
   "execution_count": 72,
   "metadata": {},
   "outputs": [
    {
     "data": {
      "text/plain": [
       "[R, A, H]"
      ]
     },
     "execution_count": 72,
     "metadata": {},
     "output_type": "execute_result"
    }
   ],
   "source": [
    "nodeG.children"
   ]
  },
  {
   "cell_type": "markdown",
   "metadata": {
    "graffitiCellId": "id_8vfpmgw"
   },
   "source": [
    "## Implement DFS\n",
    "Using what you know about DFS for trees, apply this to graphs. Implement the `dfs_search` to return the `GraphNode` with the value `search_value` starting at the `root_node`."
   ]
  },
  {
   "cell_type": "code",
   "execution_count": 139,
   "metadata": {
    "graffitiCellId": "id_k6nhmo1"
   },
   "outputs": [],
   "source": [
    "class Stack:\n",
    "\n",
    "    def __init__(self):\n",
    "        self.stack = []\n",
    "\n",
    "    def insert(self, node):\n",
    "        self.stack.insert(0,node)\n",
    "\n",
    "    def pop(self):\n",
    "        self.stack.pop()\n",
    "\n",
    "    def print(self):\n",
    "        print('TOP OF STACK')\n",
    "        for node in self.stack:\n",
    "            print(node)\n",
    "        print('BOTTOM OF STACK')\n",
    "\n",
    "    def __repr__(self):\n",
    "        return str(self.stack)\n",
    "        \n",
    "def dfs_search(root_node, search_value):\n",
    "    seen = Stack()\n",
    "\n",
    "    # Pick a starting node and mark it as seen by placing on a stack\n",
    "    node = root_node\n",
    "    seen.insert(node)\n",
    "\n",
    "    if node.value == search_value:\n",
    "        return node\n",
    "\n",
    "    # Repeat until node matches search value\n",
    "    while node.value != search_value:\n",
    "        \n",
    "        # Pick an edge, move to the next node, and mark it as seen. If current node is a node that has been seen, go back to the previous node, and try another edge. Repeat as long as there are edges and unseen nodes\n",
    "        for child_node in node.children:\n",
    "            # If the child hasn't been seen, add.\n",
    "            if child_node not in seen.stack:\n",
    "                node = child_node\n",
    "                if node.value == search_value:\n",
    "                    return node\n",
    "                seen.insert(node)\n",
    "                \n",
    "        # If there are no more new nodes, pop current node off the stack and go to the one before it\n",
    "        seen.pop()\n",
    "        node = seen.stack[-1]\n",
    "\n",
    "        # If the node matches search value, return the node\n",
    "        if node.value == search_value:\n",
    "            return node\n",
    "\n",
    "    return None"
   ]
  },
  {
   "cell_type": "markdown",
   "metadata": {
    "graffitiCellId": "id_flg9zjy"
   },
   "source": [
    "<span class=\"graffiti-highlight graffiti-id_flg9zjy-id_4sn6eaw\"><i></i><button>Show Solution</button></span>"
   ]
  },
  {
   "cell_type": "code",
   "execution_count": 142,
   "metadata": {},
   "outputs": [
    {
     "data": {
      "text/plain": [
       "A"
      ]
     },
     "execution_count": 142,
     "metadata": {},
     "output_type": "execute_result"
    }
   ],
   "source": [
    "# Solution                \n",
    "def dfs_search(root_node, search_value):\n",
    "    visited = set()                         # Sets are faster for lookups\n",
    "    stack = [root_node]                     # Start with a given root node\n",
    "    \n",
    "    while len(stack) > 0:                   # Repeat until the stack is empty\n",
    "            \n",
    "        current_node = stack.pop()          # Pop out a node added recently \n",
    "        visited.add(current_node)           # Mark it as visited\n",
    "\n",
    "        if current_node.value == search_value:\n",
    "            return current_node\n",
    "\n",
    "        # Check all the neighbours\n",
    "        for child in current_node.children:\n",
    "\n",
    "            # If a node hasn't been visited before, and not available in the stack already.\n",
    "            if (child not in visited) and (child not in stack):         \n",
    "                stack.append(child)\n",
    "\n",
    "dfs_search(nodeS, 'A')"
   ]
  },
  {
   "cell_type": "markdown",
   "metadata": {
    "graffitiCellId": "id_0aafts6"
   },
   "source": [
    "### Tests"
   ]
  },
  {
   "cell_type": "code",
   "execution_count": 140,
   "metadata": {
    "graffitiCellId": "id_3k4dgr7"
   },
   "outputs": [],
   "source": [
    "assert nodeA == dfs_search(nodeS, 'A')\n",
    "assert nodeS == dfs_search(nodeP, 'S')\n",
    "assert nodeR == dfs_search(nodeH, 'R')"
   ]
  }
 ],
 "metadata": {
  "graffiti": {
   "firstAuthorId": "10694620118",
   "id": "id_9f31yr7",
   "language": "EN"
  },
  "kernelspec": {
   "display_name": "Python 3",
   "language": "python",
   "name": "python3"
  },
  "language_info": {
   "codemirror_mode": {
    "name": "ipython",
    "version": 3
   },
   "file_extension": ".py",
   "mimetype": "text/x-python",
   "name": "python",
   "nbconvert_exporter": "python",
   "pygments_lexer": "ipython3",
   "version": "3.10.0"
  }
 },
 "nbformat": 4,
 "nbformat_minor": 2
}
