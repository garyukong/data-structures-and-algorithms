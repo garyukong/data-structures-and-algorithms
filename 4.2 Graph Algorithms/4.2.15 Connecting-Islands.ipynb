{
 "cells": [
  {
   "cell_type": "markdown",
   "metadata": {
    "graffitiCellId": "id_2ypsk8q"
   },
   "source": [
    "# Connect Islands using Prim’s Algorithm\n",
    "### A. Problem Statements\n",
    "\n",
    "In an ocean, there are `n` islands some of which are connected via bridges. Travelling over a bridge has some cost attaced with it. Find bridges in such a way that all islands are connected with minimum cost of travelling. \n",
    "\n",
    "You can assume that there is at least one possible way in which all islands are connected with each other. \n",
    "\n",
    "You will be provided with two input parameters:\n",
    "    \n",
    "1. `num_islands` = number of islands\n",
    "    \n",
    "2. `bridge_config` = list of lists. \n",
    "    Each inner list will have 3 elements:\n",
    "        a. island A\n",
    "        b. island B\n",
    "        c. cost of bridge connecting both islands\n",
    "                       \n",
    "    Each island is represented using a number\n",
    "     \n",
    "**Example:**                       \n",
    "* `num_islands = 4`\n",
    "* `bridge_config = [[1, 2, 1], [2, 3, 4], [1, 4, 3], [4, 3, 2], [1, 3, 10]]`\n",
    "       \n",
    "Input parameters explanation:\n",
    "    1. Number of islands = 4\n",
    "    2. Island 1 and 2 are connected via a bridge with cost = 1\n",
    "       Island 2 and 3 are connected via a bridge with cost = 4\n",
    "       Island 1 and 4 are connected via a bridge with cost = 3\n",
    "       Island 4 and 3 are connected via a bridge with cost = 2\n",
    "       Island 1 and 3 are connected via a bridge with cost = 10\n",
    "       \n",
    "In this example if we are connecting bridges like this...\n",
    "* between 1 and 2 with cost = 1\n",
    "* between 1 and 4 with cost = 3\n",
    "* between 4 and 3 with cost = 2  \n",
    "\n",
    "...then we connect all 4 islands with `cost = 6` which is the minimum traveling cost.\n"
   ]
  },
  {
   "cell_type": "markdown",
   "metadata": {
    "graffitiCellId": "id_83kmdhq"
   },
   "source": [
    "### B. Hint: Use a Priority Queue or Min-Heap\n",
    "\n",
    "In addition to using a graph, you may want to use a custom priority queue for solving this problem. If you do not want to create a custom priority queue, you can use Python's inbuilt `heapq` implementation.\n",
    "\n",
    "Using the `heapq` module, you can convert an existing list of items into a min-heap. The following two functionalities can be very handy for this problem:\n",
    "\n",
    "1. `heappush(heap, item)` — add `item` to the `heap`\n",
    "2. `heappop(heap)` — remove the smallest item from the `heap`\n",
    "\n",
    "Let's look at the above methods in action. We start by creating a list of integers."
   ]
  },
  {
   "cell_type": "markdown",
   "metadata": {
    "graffitiCellId": "id_bdreuuy"
   },
   "source": [
    "### `heappush`"
   ]
  },
  {
   "cell_type": "code",
   "execution_count": 1,
   "metadata": {
    "graffitiCellId": "id_9l6a6q2"
   },
   "outputs": [
    {
     "name": "stdout",
     "output_type": "stream",
     "text": [
      "After pushing, heap looks like: [1, 2, 6, 6, 9]\n"
     ]
    }
   ],
   "source": [
    "import heapq\n",
    "\n",
    "# initialize an empty list \n",
    "minHeap = list()\n",
    "\n",
    "# insert 5 into heap\n",
    "heapq.heappush(minHeap, 6)\n",
    "\n",
    "# insert 6 into heap\n",
    "heapq.heappush(minHeap, 6)\n",
    "\n",
    "# insert 2 into heap\n",
    "heapq.heappush(minHeap, 2)\n",
    "\n",
    "# insert 1 into heap\n",
    "heapq.heappush(minHeap, 1)\n",
    "\n",
    "# insert 9 into heap\n",
    "heapq.heappush(minHeap, 9)\n",
    "\n",
    "print(\"After pushing, heap looks like: {}\".format(minHeap))"
   ]
  },
  {
   "cell_type": "markdown",
   "metadata": {
    "graffitiCellId": "id_g622hmp"
   },
   "source": [
    "### `heappop`"
   ]
  },
  {
   "cell_type": "code",
   "execution_count": 2,
   "metadata": {
    "graffitiCellId": "id_wnum5bl"
   },
   "outputs": [
    {
     "name": "stdout",
     "output_type": "stream",
     "text": [
      "Smallest element in the original list was: 1\n",
      "After popping, heap looks like: [2, 6, 6, 9]\n"
     ]
    }
   ],
   "source": [
    "# pop and return smallest element from the heap\n",
    "smallest = heapq.heappop(minHeap)   \n",
    "\n",
    "print(\"Smallest element in the original list was: {}\".format(smallest))\n",
    "\n",
    "print(\"After popping, heap looks like: {}\".format(minHeap))"
   ]
  },
  {
   "cell_type": "markdown",
   "metadata": {
    "graffitiCellId": "id_kuyx4j2"
   },
   "source": [
    "### `heappush` and `heappop` for items with multiple entries\n",
    "\n",
    "Note: If you insert a tuple inside the heap, the element at 0th index of the tuple is used for comparision\n"
   ]
  },
  {
   "cell_type": "code",
   "execution_count": 3,
   "metadata": {
    "graffitiCellId": "id_namr80b"
   },
   "outputs": [
    {
     "name": "stdout",
     "output_type": "stream",
     "text": [
      "After pushing, now heap looks like: [(-1, 5), (0, 1), (2, 0), (5, -1)]\n"
     ]
    }
   ],
   "source": [
    "minHeap = list()\n",
    "\n",
    "heapq.heappush(minHeap, (0, 1))\n",
    "\n",
    "heapq.heappush(minHeap, (-1, 5))\n",
    "\n",
    "heapq.heappush(minHeap, (2, 0))\n",
    "\n",
    "heapq.heappush(minHeap, (5, -1))\n",
    "\n",
    "print(\"After pushing, now heap looks like: {}\".format(minHeap))"
   ]
  },
  {
   "cell_type": "code",
   "execution_count": 4,
   "metadata": {
    "graffitiCellId": "id_nm8mxqe"
   },
   "outputs": [
    {
     "name": "stdout",
     "output_type": "stream",
     "text": [
      "Smallest element in the original list was: (-1, 5)\n",
      "After popping, heap looks like: [(0, 1), (5, -1), (2, 0)]\n"
     ]
    }
   ],
   "source": [
    "# pop and return smallest element from the heap\n",
    "smallest = heapq.heappop(minHeap)   \n",
    "\n",
    "print(\"Smallest element in the original list was: {}\".format(smallest))\n",
    "\n",
    "print(\"After popping, heap looks like: {}\".format(minHeap))"
   ]
  },
  {
   "cell_type": "markdown",
   "metadata": {
    "graffitiCellId": "id_x0cx1fl"
   },
   "source": [
    "Now that you know about `heapq`, you can use it to solve the given problem. You are also free to create your own implementatin of Priority Queues.\n",
    "\n",
    "### C. The Idea, based on Prim’s Algorithm:\n",
    "Our objective is to find the minimum `total_cost` to visit all the islands. We will start with any one island, and follow a Greedy approach. <br>\n",
    "**Step 1 -  Create a Graph**\n",
    "1. Create a graph with given number of islands, and the cost between each pair of islands. A graph can be represented as a adjacency_matrix, which is a list of lists. For example, given:<br>\n",
    "```\n",
    "num_islands = 4\n",
    "bridge_config = [[1, 2, 1], [2, 3, 4], [1, 4, 3], [4, 3, 2], [1, 3, 10]]\n",
    "```\n",
    "<br> The graph would look like:\n",
    "```\n",
    "graph =  [[], [(2, 1), (4, 3), (3, 10)], [(1, 1), (3, 4)], [(2, 4), (4, 2), (1, 10)], [(1, 3), (3, 2)]]\n",
    "```\n",
    "where, a sublist at $i^{th}$ index represents the adjacency_list of $i^{th}$ island. A tuple within a sublist is `(neighbor, edge_cost)`. <br>\n",
    "\n",
    "**Step 2 - Traverse the graph in a Greedy way.** <br>  \n",
    "1. Create a blank `minHeap`, and push any one island (vertex) into it.  \n",
    "1. While there are elements remaining in the `minHeap`, do the following:\n",
    " - Pop out an island having smallest edge_cost, and reduce the heap size. You can use `heapq.heappop()` for this purpose. \n",
    " - If the current island has not been visited before, add the `edge_cost` to the `total_cost`. You can use a list of booleans to keep track of the visited islands.  \n",
    " - Find out all the neighbours of the current island from the given `graph`. Push each neighbour of the current island into the `minHeap`. You can use `heapq.heappush()` for this purpose. \n",
    " - Mark current island as visited\n",
    " tuple in the adjacency_list of the \n",
    "\n",
    "1. When we have popped out all the elements from the `minHeap`, we will have the minimum `total_cost` to visit all the islands.\n",
    "\n",
    "### D. Exercise - Write the function definition here \n",
    "Write code in the following function to find and return the minimum cost required to travel all islands via bridges."
   ]
  },
  {
   "cell_type": "code",
   "execution_count": 46,
   "metadata": {
    "graffitiCellId": "id_igrfgn6"
   },
   "outputs": [
    {
     "data": {
      "text/plain": [
       "[[],\n",
       " [(1, 2), (3, 4), (10, 3)],\n",
       " [(1, 1), (4, 3)],\n",
       " [(4, 2), (2, 4), (10, 1)],\n",
       " [(3, 1), (2, 3)]]"
      ]
     },
     "execution_count": 46,
     "metadata": {},
     "output_type": "execute_result"
    }
   ],
   "source": [
    "def make_graph(num_islands, bridge_config):\n",
    "    # Create a list of length num_islands + 1\n",
    "    graph = [[] for _ in range(num_islands+1)]\n",
    "    \n",
    "    # Iterate through each index where each index corresponds to island number\n",
    "    for i in range(num_islands+1):\n",
    "        graph_sublist = []\n",
    "\n",
    "        # Iterate through the bridge_config list\n",
    "        for config_sublist in bridge_config:\n",
    "\n",
    "            # Append a tuple containing the neighbour (config_sublist[0/1]) and edge_cost (config_sublist[2]) to graph_sublist\n",
    "            if config_sublist[0] == i:\n",
    "                graph_sublist.append((config_sublist[2],config_sublist[1]))\n",
    "            if config_sublist[1] == i:\n",
    "                graph_sublist.append((config_sublist[2], config_sublist[0]))\n",
    "\n",
    "        # Insert graph_sublist into the graph at the correct index\n",
    "        graph[i] = graph_sublist\n",
    "    \n",
    "    return(graph)\n",
    "\n",
    "num_islands = 4\n",
    "bridge_config = [[1, 2, 1], [2, 3, 4], [1, 4, 3], [4, 3, 2], [1, 3, 10]]\n",
    "make_graph(num_islands, bridge_config)"
   ]
  },
  {
   "cell_type": "code",
   "execution_count": 92,
   "metadata": {},
   "outputs": [
    {
     "name": "stdout",
     "output_type": "stream",
     "text": [
      "\n",
      "minHeap: [(1, 2), (3, 4), (10, 3)]\n",
      "visited: {1}\n",
      "current island: 2, edge_cost: 1\n",
      "total cost: 1\n",
      "\n",
      "minHeap: [(1, 1), (4, 3), (3, 4), (10, 3)]\n",
      "visited: {1, 2}\n",
      "current island: 1, edge_cost: 1\n",
      "\n",
      "minHeap: [(3, 4), (4, 3), (10, 3)]\n",
      "visited: {1, 2}\n",
      "current island: 4, edge_cost: 3\n",
      "total cost: 4\n",
      "\n",
      "minHeap: [(2, 3), (3, 1), (4, 3), (10, 3)]\n",
      "visited: {1, 2, 4}\n",
      "current island: 3, edge_cost: 2\n",
      "total cost: 6\n",
      "\n",
      "minHeap: [(2, 4), (3, 1), (4, 3), (10, 3), (4, 2), (10, 1)]\n",
      "visited: {1, 2, 3, 4}\n",
      "current island: 4, edge_cost: 2\n",
      "\n",
      "minHeap: [(3, 1), (4, 2), (4, 3), (10, 3), (10, 1)]\n",
      "visited: {1, 2, 3, 4}\n",
      "current island: 1, edge_cost: 3\n",
      "\n",
      "minHeap: [(4, 2), (10, 1), (4, 3), (10, 3)]\n",
      "visited: {1, 2, 3, 4}\n",
      "current island: 2, edge_cost: 4\n",
      "\n",
      "minHeap: [(4, 3), (10, 1), (10, 3)]\n",
      "visited: {1, 2, 3, 4}\n",
      "current island: 3, edge_cost: 4\n",
      "\n",
      "minHeap: [(10, 1), (10, 3)]\n",
      "visited: {1, 2, 3, 4}\n",
      "current island: 1, edge_cost: 10\n",
      "\n",
      "minHeap: [(10, 3)]\n",
      "visited: {1, 2, 3, 4}\n",
      "current island: 3, edge_cost: 10\n"
     ]
    },
    {
     "data": {
      "text/plain": [
       "6"
      ]
     },
     "execution_count": 92,
     "metadata": {},
     "output_type": "execute_result"
    }
   ],
   "source": [
    "def traverse_graph(graph, start_island):\n",
    "    total_cost = 0\n",
    "    visited = set()\n",
    "    current = start_island\n",
    "\n",
    "    # Create a blank `minHeap`, and push any one island (vertex) into it.\n",
    "    from heapq import heappush\n",
    "    from heapq import heappop\n",
    "\n",
    "    minHeap = list()\n",
    "    \n",
    "    for neighbor in graph[current]:\n",
    "        heappush(minHeap, neighbor)\n",
    "\n",
    "    visited.add(current)\n",
    "    \n",
    "    # While there are elements remaining in the `minHeap`, do the following:\n",
    "    while minHeap:\n",
    "        print()\n",
    "        print(f'minHeap: {minHeap}')\n",
    "        print(f'visited: {visited}')\n",
    "\n",
    "        #  Pop out an island having smallest edge_cost, and reduce the heap size. You can use `heapq.heappop()` for this purpose. \n",
    "        edge_cost, current = heappop(minHeap)\n",
    "        print(f'current island: {current}, edge_cost: {edge_cost}')\n",
    "        \n",
    "        #  If the current island has not been visited before, add the `edge_cost` to the `total_cost`. You can use a list of booleans to keep track of the visited islands.  \n",
    "        if current not in visited:\n",
    "            total_cost += edge_cost\n",
    "            print(f'total cost: {total_cost}')\n",
    "            for neighbor in graph[current]:\n",
    "                heappush(minHeap, neighbor)\n",
    "                \n",
    "        #  Mark current island as visited\n",
    "        visited.add(current)\n",
    "\n",
    "    # When we have popped out all the elements from the `minHeap`, we will have the minimum `total_cost` to visit all the islands.\n",
    "    return total_cost\n",
    "\n",
    "traverse_graph(graph, 1)"
   ]
  },
  {
   "cell_type": "code",
   "execution_count": 109,
   "metadata": {},
   "outputs": [],
   "source": [
    "def get_minimum_cost_of_connecting(num_islands, bridge_config, start_island = 1):\n",
    "    \"\"\"\n",
    "    :param: num_islands - number of islands\n",
    "    :param: bridge_config - bridge configuration as explained in the problem statement\n",
    "    return: cost (int) minimum cost of connecting all islands\n",
    "    \"\"\"\n",
    "    # PART 1: CREATE GRAPH\n",
    "    # Create a list of lists of length num_islands + 1\n",
    "    graph = [[] for _ in range(num_islands+1)]\n",
    "    \n",
    "    # Iterate through each index where each index corresponds to island number\n",
    "    for i in range(num_islands+1):\n",
    "        graph_sublist = []\n",
    "\n",
    "        # Iterate through the bridge_config list\n",
    "        for config_sublist in bridge_config:\n",
    "\n",
    "            # Append a tuple containing the neighbour (config_sublist[0/1]) and edge_cost (config_sublist[2]) to graph_sublist\n",
    "            if config_sublist[0] == i:\n",
    "                graph_sublist.append((config_sublist[2],config_sublist[1]))\n",
    "            if config_sublist[1] == i:\n",
    "                graph_sublist.append((config_sublist[2], config_sublist[0]))\n",
    "\n",
    "        # Insert graph_sublist into the graph at the correct index\n",
    "        graph[i] = graph_sublist\n",
    "\n",
    "    # PART 2: TRAVERSE GRAPH\n",
    "    # Initialise variables\n",
    "    total_cost = 0\n",
    "    visited = set()\n",
    "    current = start_island\n",
    "\n",
    "    # Create a blank `minHeap`, and push any one island (vertex) into it.\n",
    "    from heapq import heappush\n",
    "    from heapq import heappop\n",
    "\n",
    "    minHeap = list()\n",
    "    \n",
    "    for neighbor in graph[current]:\n",
    "        heappush(minHeap, neighbor)\n",
    "\n",
    "    # Mark starting island as visited\n",
    "    visited.add(current)\n",
    "    \n",
    "    # While there are elements remaining in the `minHeap`, do the following:\n",
    "    while minHeap:\n",
    "\n",
    "        #  Pop out an island having smallest edge_cost, and reduce the heap size \n",
    "        edge_cost, current = heappop(minHeap)\n",
    "        \n",
    "        #  If the current island has not been visited before, add the `edge_cost` to the `total_cost`  \n",
    "        if current not in visited:\n",
    "            total_cost += edge_cost\n",
    "            for neighbor in graph[current]:\n",
    "                heappush(minHeap, neighbor)\n",
    "\n",
    "        #  Mark current island as visited\n",
    "        visited.add(current)\n",
    "\n",
    "    # When we have popped out all the elements from the `minHeap`, we will have the minimum `total_cost` to visit all the islands.\n",
    "    return total_cost"
   ]
  },
  {
   "cell_type": "markdown",
   "metadata": {
    "graffitiCellId": "id_07rfocu"
   },
   "source": [
    "<span class=\"graffiti-highlight graffiti-id_07rfocu-id_sgw589w\"><i></i><button>Show Solution</button></span>"
   ]
  },
  {
   "cell_type": "code",
   "execution_count": 100,
   "metadata": {
    "graffitiCellId": "id_pevivew"
   },
   "outputs": [],
   "source": [
    "def test_function(test_case):\n",
    "    num_islands = test_case[0]\n",
    "    bridge_config = test_case[1]\n",
    "    solution = test_case[2]\n",
    "    output = get_minimum_cost_of_connecting(num_islands, bridge_config)\n",
    "    \n",
    "    if output == solution:\n",
    "        print(\"Pass\")\n",
    "    else:\n",
    "        print(\"Fail\")"
   ]
  },
  {
   "cell_type": "code",
   "execution_count": 110,
   "metadata": {
    "graffitiCellId": "id_5j7jeic"
   },
   "outputs": [
    {
     "name": "stdout",
     "output_type": "stream",
     "text": [
      "Pass\n"
     ]
    }
   ],
   "source": [
    "num_islands = 4\n",
    "bridge_config = [[1, 2, 1], [2, 3, 4], [1, 4, 3], [4, 3, 2], [1, 3, 10]]\n",
    "solution = 6\n",
    "\n",
    "test_case = [num_islands, bridge_config, solution]\n",
    "test_function(test_case)"
   ]
  },
  {
   "cell_type": "code",
   "execution_count": 111,
   "metadata": {
    "graffitiCellId": "id_txlblpb"
   },
   "outputs": [
    {
     "name": "stdout",
     "output_type": "stream",
     "text": [
      "Pass\n"
     ]
    }
   ],
   "source": [
    "num_islands = 5\n",
    "bridge_config = [[1, 2, 5], [1, 3, 8], [2, 3, 9]]\n",
    "solution = 13\n",
    "\n",
    "test_case = [num_islands, bridge_config, solution]\n",
    "test_function(test_case)"
   ]
  },
  {
   "cell_type": "code",
   "execution_count": 112,
   "metadata": {
    "graffitiCellId": "id_x9pmr53"
   },
   "outputs": [
    {
     "name": "stdout",
     "output_type": "stream",
     "text": [
      "Pass\n"
     ]
    }
   ],
   "source": [
    "num_islands = 5\n",
    "bridge_config = [[1, 2, 3], [1, 5, 9], [2, 3, 10], [4, 3, 9]]\n",
    "solution = 31\n",
    "\n",
    "test_case = [num_islands, bridge_config, solution]\n",
    "test_function(test_case)"
   ]
  }
 ],
 "metadata": {
  "graffiti": {
   "firstAuthorId": "dev",
   "id": "id_j75mgso",
   "language": "EN"
  },
  "kernelspec": {
   "display_name": "Python 3",
   "language": "python",
   "name": "python3"
  },
  "language_info": {
   "codemirror_mode": {
    "name": "ipython",
    "version": 3
   },
   "file_extension": ".py",
   "mimetype": "text/x-python",
   "name": "python",
   "nbconvert_exporter": "python",
   "pygments_lexer": "ipython3",
   "version": "3.10.0"
  }
 },
 "nbformat": 4,
 "nbformat_minor": 2
}
