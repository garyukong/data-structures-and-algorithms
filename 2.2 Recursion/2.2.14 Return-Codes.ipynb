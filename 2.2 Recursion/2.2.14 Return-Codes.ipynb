{
 "cells": [
  {
   "cell_type": "markdown",
   "metadata": {
    "graffitiCellId": "id_1myd4mr"
   },
   "source": [
    "### Problem statement\n",
    "\n",
    "In an encryption system where ASCII lower case letters represent numbers in the pattern `a=1, b=2, c=3...` and so on, find out all the codes that are possible for a given input number. \n",
    "\n",
    "**Example 1**\n",
    "\n",
    "* `number = 123`\n",
    "* `codes_possible = [\"aw\", \"abc\", \"lc\"]`\n",
    "\n",
    "Explanation: The codes are for the following number:\n",
    "         \n",
    "* 1 . 23     = \"aw\"\n",
    "* 1 . 2 . 3  = \"abc\"\n",
    "* 12 . 3     = \"lc\"\n",
    "    \n",
    "\n",
    "**Example 2**  \n",
    "\n",
    "* `number = 145`\n",
    "* `codes_possible = [\"ade\", \"ne\"]`\n",
    "\n",
    "Return the codes in a list. The order of codes in the list is not important.\n",
    "\n",
    "*Note: you can assume that the input number will not contain any 0s*"
   ]
  },
  {
   "cell_type": "code",
   "execution_count": 1,
   "metadata": {
    "graffitiCellId": "id_v2stglr"
   },
   "outputs": [],
   "source": [
    "def remap(number):\n",
    "    \"\"\"Helper function to remap number to character\n",
    "    :param number: number to map to character\n",
    "    Return - character corresponding to number\"\"\"\n",
    "    map = {1:'a', 2:'b', 3:'c', 4:'d', 5:'e', 6:'f', 7:'g', 8:'h', 9:'i', 10:'j', 11:'k', 12:'l', 13:'m', 14:'n', 15:'o', 16:'p', 17:'q', 18:'r', 19:'s', 20:'t', 21:'u', 22:'v', 23:'w', 24:'y', 25:'z'}\n",
    "    return map[number]\n",
    "\n",
    "def changeChar(string, toadd, pos=0):\n",
    "    \"\"\"Helper function to add one character to a string\n",
    "    :param string: string to add one character to\n",
    "    :param toadd: character to insert to the beginning of the string\n",
    "    Return - string() with new character added to the beginning of the string\"\"\"\n",
    "    stringList = list(string)\n",
    "    stringList[pos] = toadd + stringList[pos]\n",
    "    edited_string = \"\".join(stringList)\n",
    "    return edited_string\n",
    "\n",
    "def convert(number):\n",
    "    \"\"\"Helper function to create a list of possible number combinations based on the input\n",
    "    :param number: number to create list of possible number combinations\n",
    "    Return: list() of possible combinations based on the numbers\"\"\"\n",
    "    outputList = list()\n",
    "    firstNum = str(number)[0]\n",
    "    rest = str(number)[1:]\n",
    "\n",
    "    import copy\n",
    "\n",
    "    # Base case\n",
    "    if len(rest) == 1:\n",
    "\n",
    "        # Change the number at the front of the list to be firstNum + rest\n",
    "        concatenated = firstNum + rest\n",
    "        if 0 < int(concatenated) < 26: # Ensures number is between 1 and 26\n",
    "            outputList.append([concatenated])\n",
    "\n",
    "        # Insert firstNum to the front of the list as an additional element\n",
    "        tempList = []\n",
    "        tempList.append(firstNum)\n",
    "        tempList.append(rest)\n",
    "        outputList.append(tempList)\n",
    "\n",
    "    # Recursive call\n",
    "    else:\n",
    "        callResults = convert(rest)\n",
    "        for aList in callResults:\n",
    "\n",
    "            # Change the number at the front of the list to be firstNum + rest\n",
    "            bList = copy.deepcopy(aList)\n",
    "            bList[0] = changeChar(bList[0], firstNum)\n",
    "            if 0 < int(bList[0]) < 26: # Ensures number is between 1 and 26\n",
    "                outputList.append(bList)\n",
    "\n",
    "            # Insert firstNum to the front of the list as an additional element\n",
    "            cList = copy.deepcopy(aList)\n",
    "            cList.insert(0,firstNum)\n",
    "            outputList.append(cList)\n",
    "\n",
    "    return outputList\n",
    "\n",
    "def all_codes(number):\n",
    "    \"\"\"\n",
    "    :param: number - input integer\n",
    "    Return - list() of all codes possible for this number\n",
    "    \"\"\"\n",
    "    # Create an empty list\n",
    "    outputList = list()\n",
    "\n",
    "    # Create a list of numbers\n",
    "    numPermutations = convert(number)\n",
    "    # print(numPermutations)\n",
    "    \n",
    "    # Convert each sublist into characters\n",
    "    for subList in numPermutations:\n",
    "        # print(\"SubList: {}\".format(subList))\n",
    "        newSubList = list()\n",
    "        newString = ''\n",
    "        for num in subList:\n",
    "            # print(\"Num: {}\".format(num))\n",
    "            char = remap(int(num))\n",
    "            # print(\"Char: {}\".format(char))\n",
    "            newSubList.append(char)\n",
    "            # print(newSubList)\n",
    "            newString = \"\".join(newSubList)\n",
    "        outputList.append(newString)\n",
    "\n",
    "    return outputList"
   ]
  },
  {
   "cell_type": "markdown",
   "metadata": {
    "graffitiCellId": "id_q8i2zj9"
   },
   "source": [
    "<span class=\"graffiti-highlight graffiti-id_q8i2zj9-id_yrg0ir2\"><i></i><button>Hide Solution</button></span>"
   ]
  },
  {
   "cell_type": "code",
   "execution_count": null,
   "metadata": {
    "graffitiCellId": "id_yrg0ir2"
   },
   "outputs": [],
   "source": [
    "# Solution\n",
    "\n",
    "def get_alphabet(number):\n",
    "    \"\"\"\n",
    "    Helper function to figure out alphabet of a particular number\n",
    "    Remember: \n",
    "        * ASCII for lower case 'a' = 97\n",
    "        * chr(num) returns ASCII character for a number e.g. chr(65) ==> 'A'\n",
    "    \"\"\"\n",
    "    return chr(number + 96)\n",
    "\n",
    "def all_codes(number):\n",
    "    if number == 0:\n",
    "        return [\"\"]\n",
    "    \n",
    "    # calculation for two right-most digits e.g. if number = 1123, this calculation is meant for 23\n",
    "    remainder = number % 100\n",
    "    output_100 = list()\n",
    "    if remainder <= 26 and number > 9 :\n",
    "        \n",
    "        # get all codes for the remaining number\n",
    "        output_100 = all_codes(number // 100) # e.g. if number = 1123, this calculation is meant for 11\n",
    "        alphabet = get_alphabet(remainder)\n",
    "        \n",
    "        for index, element in enumerate(output_100):\n",
    "            output_100[index] = element + alphabet\n",
    "    \n",
    "    # calculation for right-most digit e.g. if number = 1123, this calculation is meant for 3\n",
    "    remainder = number % 10\n",
    "    \n",
    "    # get all codes for the remaining number\n",
    "    output_10 = all_codes(number // 10) # e.g. if number = 1123, this calculation is meant for 112\n",
    "    alphabet = get_alphabet(remainder)\n",
    "    \n",
    "    for index, element in enumerate(output_10):\n",
    "        output_10[index] = element + alphabet\n",
    "        \n",
    "    output = list()\n",
    "    output.extend(output_100)\n",
    "    output.extend(output_10)\n",
    "    \n",
    "    return output"
   ]
  },
  {
   "cell_type": "code",
   "execution_count": 6,
   "metadata": {
    "graffitiCellId": "id_byos91q"
   },
   "outputs": [],
   "source": [
    "def test_function(test_case):\n",
    "    number = test_case[0]\n",
    "    solution = test_case[1]\n",
    "    \n",
    "    output = all_codes(number)\n",
    "    \n",
    "    output.sort()\n",
    "    solution.sort()\n",
    "    \n",
    "    if output == solution:\n",
    "        print(\"Pass\")\n",
    "    else:\n",
    "        print(\"Fail\")"
   ]
  },
  {
   "cell_type": "code",
   "execution_count": 9,
   "metadata": {
    "graffitiCellId": "id_l3o11vy"
   },
   "outputs": [
    {
     "name": "stdout",
     "output_type": "stream",
     "text": [
      "Pass\n"
     ]
    }
   ],
   "source": [
    "number = 123\n",
    "solution = ['abc', 'aw', 'lc']\n",
    "test_case = [number, solution]\n",
    "test_function(test_case)"
   ]
  },
  {
   "cell_type": "code",
   "execution_count": 12,
   "metadata": {
    "graffitiCellId": "id_a5y5trj"
   },
   "outputs": [
    {
     "name": "stdout",
     "output_type": "stream",
     "text": [
      "Pass\n"
     ]
    }
   ],
   "source": [
    "number = 145\n",
    "solution =  ['ade', 'ne']\n",
    "test_case = [number, solution]\n",
    "test_function(test_case)"
   ]
  },
  {
   "cell_type": "code",
   "execution_count": 11,
   "metadata": {
    "graffitiCellId": "id_ujafvah"
   },
   "outputs": [
    {
     "name": "stdout",
     "output_type": "stream",
     "text": [
      "Pass\n"
     ]
    }
   ],
   "source": [
    "number = 1145\n",
    "solution =  ['aade', 'ane', 'kde']\n",
    "test_case = [number, solution]\n",
    "test_function(test_case)"
   ]
  },
  {
   "cell_type": "code",
   "execution_count": 13,
   "metadata": {
    "graffitiCellId": "id_6d1dxt9"
   },
   "outputs": [
    {
     "name": "stdout",
     "output_type": "stream",
     "text": [
      "Pass\n"
     ]
    }
   ],
   "source": [
    "number = 4545\n",
    "solution = ['dede']\n",
    "test_case = [number, solution]\n",
    "test_function(test_case)"
   ]
  }
 ],
 "metadata": {
  "graffiti": {
   "firstAuthorId": "dev",
   "id": "id_kdfaoy8",
   "language": "EN"
  },
  "kernelspec": {
   "display_name": "Python 3",
   "language": "python",
   "name": "python3"
  },
  "language_info": {
   "codemirror_mode": {
    "name": "ipython",
    "version": 3
   },
   "file_extension": ".py",
   "mimetype": "text/x-python",
   "name": "python",
   "nbconvert_exporter": "python",
   "pygments_lexer": "ipython3",
   "version": "3.6.3"
  }
 },
 "nbformat": 4,
 "nbformat_minor": 2
}
