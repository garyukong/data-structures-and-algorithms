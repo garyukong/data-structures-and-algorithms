{
 "cells": [
  {
   "cell_type": "markdown",
   "metadata": {
    "graffitiCellId": "id_7nj9dyd"
   },
   "source": [
    "# Case Specific Sorting of Strings\n",
    "\n",
    "## Problem statement\n",
    "Given a string consisting of uppercase and lowercase ASCII characters, write a function, `case_sort`, that sorts uppercase and lowercase letters separately, such that if the $i$th place in the original string had an uppercase character then it should not have a lowercase character after being sorted and vice versa.\n",
    "\n",
    "For example:  \n",
    "**Input:** fedRTSersUXJ  \n",
    "**Output:** deeJRSfrsTUX"
   ]
  },
  {
   "cell_type": "code",
   "execution_count": 41,
   "metadata": {},
   "outputs": [
    {
     "name": "stdout",
     "output_type": "stream",
     "text": [
      "[102, 101, 100, 82, 84, 83, 101, 114, 115, 85, 88, 74]\n",
      "['J', 'R', 'S', 'T', 'U', 'X', 'd', 'e', 'e', 'f', 'r', 's']\n",
      "True\n",
      "True\n",
      "True\n",
      "True\n",
      "True\n",
      "True\n",
      "False\n",
      "False\n",
      "False\n",
      "False\n",
      "False\n",
      "False\n"
     ]
    }
   ],
   "source": [
    "string = 'fedRTSersUXJ'\n",
    "\n",
    "# Sort the string\n",
    "\n",
    "# Convert characters to ASCII numbers\n",
    "charno_list = []\n",
    "for char in string:\n",
    "    charno = ord(char)\n",
    "    charno_list.append(charno)\n",
    "\n",
    "print(charno_list)\n",
    "sorted_string = sorted(string)\n",
    "print(sorted_string)\n",
    "\n",
    "for char in sorted_string:\n",
    "    if char.isupper():\n",
    "        print('True')\n",
    "    else:\n",
    "        print('False')\n"
   ]
  },
  {
   "cell_type": "code",
   "execution_count": 58,
   "metadata": {
    "graffitiCellId": "id_jmqckie"
   },
   "outputs": [
    {
     "data": {
      "text/plain": [
       "'deeJRSfrsTUX'"
      ]
     },
     "execution_count": 58,
     "metadata": {},
     "output_type": "execute_result"
    }
   ],
   "source": [
    "def case_sort(string):\n",
    "    \"\"\"\n",
    "    Here are some pointers on how the function should work:\n",
    "    1. Sort the string\n",
    "    2. Create an empty output list\n",
    "    3. Iterate over original string\n",
    "        if the character is lower-case:\n",
    "            pick lower-case character from sorted string to place in output list\n",
    "        else:\n",
    "            pick upper-case character from sorted string to place in output list\n",
    "    \n",
    "    Note: You can use Python's inbuilt ord() function to find the ASCII value of a character\n",
    "    \"\"\"\n",
    "    # Sort the string into upper and lower case lists\n",
    "    upper_chars = []\n",
    "    lower_chars = []\n",
    "\n",
    "    for char in sorted(string):\n",
    "        if char.isupper():\n",
    "            upper_chars.append(char)\n",
    "        elif char.islower():\n",
    "            lower_chars.append(char)\n",
    "\n",
    "    # Create an empty output list\n",
    "    output = []\n",
    "\n",
    "    # Iterate over original string\n",
    "    upper_index = 0\n",
    "    lower_index = 0\n",
    "\n",
    "    for char in string:\n",
    "        if char.islower():\n",
    "            output.append(lower_chars[lower_index])\n",
    "            lower_index += 1\n",
    "        elif char.isupper():\n",
    "            output.append(upper_chars[upper_index])\n",
    "            upper_index += 1\n",
    "\n",
    "    # Return output\n",
    "    return \"\".join(output)\n",
    "\n",
    "string = 'fedRTSersUXJ'\n",
    "case_sort(string)"
   ]
  },
  {
   "cell_type": "markdown",
   "metadata": {
    "graffitiCellId": "id_mw53bf1"
   },
   "source": [
    "<span class=\"graffiti-highlight graffiti-id_mw53bf1-id_fsblbn3\"><i></i><button>Show Solution</button></span>"
   ]
  },
  {
   "cell_type": "code",
   "execution_count": 59,
   "metadata": {
    "graffitiCellId": "id_z40d3cc"
   },
   "outputs": [],
   "source": [
    "def test_function(test_case):\n",
    "    test_string = test_case[0]\n",
    "    solution = test_case[1]\n",
    "    \n",
    "    if case_sort(test_string) == solution:\n",
    "        print(\"Pass\")\n",
    "    else:\n",
    "        print(\"False\")"
   ]
  },
  {
   "cell_type": "code",
   "execution_count": 60,
   "metadata": {
    "graffitiCellId": "id_gxkbvwz"
   },
   "outputs": [
    {
     "name": "stdout",
     "output_type": "stream",
     "text": [
      "Pass\n"
     ]
    }
   ],
   "source": [
    "test_string = 'fedRTSersUXJ'\n",
    "solution = \"deeJRSfrsTUX\"\n",
    "test_case = [test_string, solution]\n",
    "test_function(test_case)"
   ]
  },
  {
   "cell_type": "code",
   "execution_count": 61,
   "metadata": {
    "graffitiCellId": "id_uduu26h"
   },
   "outputs": [
    {
     "name": "stdout",
     "output_type": "stream",
     "text": [
      "Pass\n"
     ]
    }
   ],
   "source": [
    "test_string = \"defRTSersUXI\"\n",
    "solution = \"deeIRSfrsTUX\"\n",
    "test_case = [test_string, solution]\n",
    "test_function(test_case)"
   ]
  }
 ],
 "metadata": {
  "graffiti": {
   "firstAuthorId": "dev",
   "id": "id_9ub8eru",
   "language": "EN"
  },
  "kernelspec": {
   "display_name": "Python 3",
   "language": "python",
   "name": "python3"
  },
  "language_info": {
   "codemirror_mode": {
    "name": "ipython",
    "version": 3
   },
   "file_extension": ".py",
   "mimetype": "text/x-python",
   "name": "python",
   "nbconvert_exporter": "python",
   "pygments_lexer": "ipython3",
   "version": "3.10.0"
  }
 },
 "nbformat": 4,
 "nbformat_minor": 2
}
