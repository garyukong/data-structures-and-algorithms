{
 "cells": [
  {
   "cell_type": "markdown",
   "id": "ceba37c8",
   "metadata": {},
   "source": [
    "### Task 0"
   ]
  },
  {
   "cell_type": "code",
   "execution_count": null,
   "id": "45673599",
   "metadata": {},
   "outputs": [],
   "source": [
    "# Read file into texts and calls\n",
    "import csv\n",
    "with open('texts.csv', 'r') as f:\n",
    "    reader = csv.reader(f)\n",
    "    texts = list(reader)\n",
    "\n",
    "with open('calls.csv', 'r') as f:\n",
    "    reader = csv.reader(f)\n",
    "    calls = list(reader)"
   ]
  },
  {
   "cell_type": "markdown",
   "id": "aea703c7",
   "metadata": {},
   "source": [
    "TASK 0:\n",
    "What is the first record of texts and what is the last record of calls?"
   ]
  },
  {
   "cell_type": "code",
   "execution_count": 258,
   "id": "f4d647f2",
   "metadata": {},
   "outputs": [
    {
     "name": "stdout",
     "output_type": "stream",
     "text": [
      "First record of texts, 97424 22395 texts 90365 06212 at time 01-09-2016 06:03:22\n",
      "Last record of calls, 98447 62998 calls (080)46304537 at time 30-09-2016 23:57:15\n"
     ]
    }
   ],
   "source": [
    "# Print results    \n",
    "print(\"First record of texts,\", texts[0][0], \"texts\", texts[0][1], \"at time\", texts[0][2])\n",
    "lastcall = len(calls)-1 # Calculate index for last item in calls\n",
    "print(\"Last record of calls,\", calls[lastcall][0], \"calls\", calls[lastcall][1], \"at time\", calls[lastcall][2])"
   ]
  },
  {
   "cell_type": "markdown",
   "id": "6d840ff9",
   "metadata": {},
   "source": [
    "#### Run-time Analysis "
   ]
  },
  {
   "cell_type": "markdown",
   "id": "60ee959a",
   "metadata": {},
   "source": [
    "The algorithm is O(1)"
   ]
  },
  {
   "cell_type": "markdown",
   "id": "71f27cd1",
   "metadata": {},
   "source": [
    "### Task 1 "
   ]
  },
  {
   "cell_type": "code",
   "execution_count": 262,
   "id": "eee78bd0",
   "metadata": {},
   "outputs": [],
   "source": [
    "# Read file into texts and calls\n",
    "import csv\n",
    "with open('texts.csv', 'r') as f:\n",
    "    reader = csv.reader(f)\n",
    "    texts = list(reader)\n",
    "\n",
    "with open('calls.csv', 'r') as f:\n",
    "    reader = csv.reader(f)\n",
    "    calls = list(reader)"
   ]
  },
  {
   "cell_type": "markdown",
   "id": "6a74222f",
   "metadata": {},
   "source": [
    "TASK 1:\n",
    "How many different telephone numbers are there in the records? \n",
    "Print a message:\n",
    "\"There are (count) different telephone numbers in the records.\""
   ]
  },
  {
   "cell_type": "code",
   "execution_count": 263,
   "id": "c99f9943",
   "metadata": {},
   "outputs": [
    {
     "name": "stdout",
     "output_type": "stream",
     "text": [
      "There are 28570 different telephone numbers in the records\n"
     ]
    }
   ],
   "source": [
    "# Create a list containing all unique phone numbers across texts and calls records\n",
    "numbers = []\n",
    "for row in texts:\n",
    "    if row[0] not in texts:\n",
    "        numbers.append(row[0])\n",
    "    if row[1] not in texts:\n",
    "        numbers.append(row[1])\n",
    "\n",
    "for row in calls:\n",
    "    if row[0] not in texts:\n",
    "        numbers.append(row[0])\n",
    "    if row[1] not in texts:\n",
    "        numbers.append(row[1])\n",
    "\n",
    "length=len(numbers)\n",
    "\n",
    "# Print results\n",
    "print(\"There are\", length, \"different telephone numbers in the records\")"
   ]
  },
  {
   "cell_type": "markdown",
   "id": "326d73a9",
   "metadata": {},
   "source": [
    "#### Run-time Analysis "
   ]
  },
  {
   "cell_type": "markdown",
   "id": "51ac1499",
   "metadata": {},
   "source": [
    "The algorithm is O(n)"
   ]
  },
  {
   "cell_type": "markdown",
   "id": "b58d9680",
   "metadata": {},
   "source": [
    "### Task 2 "
   ]
  },
  {
   "cell_type": "code",
   "execution_count": 259,
   "id": "6129c566",
   "metadata": {},
   "outputs": [],
   "source": [
    "# Read file into texts and calls\n",
    "import csv\n",
    "with open('texts.csv', 'r') as f:\n",
    "    reader = csv.reader(f)\n",
    "    texts = list(reader)\n",
    "\n",
    "with open('calls.csv', 'r') as f:\n",
    "    reader = csv.reader(f)\n",
    "    calls = list(reader)"
   ]
  },
  {
   "cell_type": "markdown",
   "id": "6c03946e",
   "metadata": {},
   "source": [
    "TASK 2: Which telephone number spent the longest time on the phone\n",
    "during the period? Don't forget that time spent answering a call is\n",
    "also time spent on the phone. Print a message: \"(telephone number) spent the longest time, (total time) seconds, on the phone during \n",
    "September 2016.\"."
   ]
  },
  {
   "cell_type": "code",
   "execution_count": 260,
   "id": "92b010fb",
   "metadata": {},
   "outputs": [
    {
     "name": "stdout",
     "output_type": "stream",
     "text": [
      "93422 47940 spent the longest time, 980 seconds, on the phone during September 2016\n"
     ]
    }
   ],
   "source": [
    "# Create a dictionary containing all phone numbers calls and sum durations\n",
    "calldir = {}\n",
    "for row in calls:\n",
    "    if row[0] not in calls:\n",
    "        calldir[row[0]] = row[3]\n",
    "    if row[0] in calls:\n",
    "        calldir[row[0]] += row[3]\n",
    "    \n",
    "    if row[1] not in calls:\n",
    "        calldir[row[1]] = row[3]\n",
    "    if row[1] in calls:\n",
    "        calldir[row[1]] += row[3]\n",
    "\n",
    "# Retrieve maximum value (cumulative duration of call) and key (phone number) with longest time on the phone\n",
    "maxvalue = max(calldir.values()) # maximum value\n",
    "maxkey = max(calldir, key=calldir.get) # key with maximum value\n",
    "\n",
    "# Print a message\n",
    "print(maxkey, \"spent the longest time,\", maxvalue, \"seconds, on the phone during September 2016\")"
   ]
  },
  {
   "cell_type": "markdown",
   "id": "7d3a17d2",
   "metadata": {},
   "source": [
    "### Task 3 "
   ]
  },
  {
   "cell_type": "markdown",
   "id": "f0691fd4",
   "metadata": {},
   "source": [
    "TASK 3:\n",
    "(080) is the area code for fixed line telephones in Bangalore.\n",
    "Fixed line numbers include parentheses, so Bangalore numbers\n",
    "have the form (080)xxxxxxx.)"
   ]
  },
  {
   "cell_type": "markdown",
   "id": "d448aedf",
   "metadata": {},
   "source": [
    "Part A: Find all of the area codes and mobile prefixes called by people\n",
    "in Bangalore. In other words, the calls were initiated by \"(080)\" area code\n",
    "to the following area codes and mobile prefixes:\n",
    " - Fixed lines start with an area code enclosed in brackets. The area\n",
    "   codes vary in length but always begin with 0.\n",
    " - Mobile numbers have no parentheses, but have a space in the middle\n",
    "   of the number to help readability. The prefix of a mobile number\n",
    "   is its first four digits, and they always start with 7, 8 or 9.\n",
    " - Telemarketers' numbers have no parentheses or space, but they start\n",
    "   with the area code 140.\n",
    "\n",
    "Print the answer as part of a message:\n",
    "\"The numbers called by people in Bangalore have codes:\"\n",
    "(list of codes)\n",
    "The list of codes should be print out one per line in lexicographic order with no duplicates."
   ]
  },
  {
   "cell_type": "code",
   "execution_count": null,
   "id": "e2fd7500",
   "metadata": {},
   "outputs": [],
   "source": [
    "# Read file into texts and calls\n",
    "import csv\n",
    "\n",
    "with open('texts.csv', 'r') as f:\n",
    "    reader = csv.reader(f)\n",
    "    texts = list(reader)\n",
    "\n",
    "with open('calls.csv', 'r') as f:\n",
    "    reader = csv.reader(f)\n",
    "    calls = list(reader)"
   ]
  },
  {
   "cell_type": "code",
   "execution_count": null,
   "id": "86f55ad2",
   "metadata": {},
   "outputs": [],
   "source": [
    "# Create a list containing calls made by (080) area code:\n",
    "bangalorecalls = []\n",
    "for row in calls:\n",
    "    if '(080)' in row[0]:\n",
    "        bangalorecalls.append(row)\n",
    "\n",
    "# Create a list containing receiving area codes and mobile prefixes\n",
    "receivingcodes = []\n",
    "for row in bangalorecalls:\n",
    "    # Retrieve fixed lines\n",
    "    fixedlineend = row[1].find(')')+1\n",
    "    if fixedlineend > 0 and row[1][:fixedlineend] not in receivingcodes:\n",
    "        receivingcodes.append(row[1][:fixedlineend])\n",
    "    # Retrieve mobile numbers\n",
    "    if ' ' in row[1] and row[1][:4] not in receivingcodes:\n",
    "        receivingcodes.append(row[1][:4])\n",
    "receivingcodes = sorted(receivingcodes) # Sort list\n",
    "\n",
    "# Print outputs\n",
    "print(\"The numbers called by people in Bangalore have codes:\",*receivingcodes, sep = \"\\n\")"
   ]
  },
  {
   "cell_type": "markdown",
   "id": "83e966a1",
   "metadata": {},
   "source": [
    "Part B: What percentage of calls from fixed lines in Bangalore are made\n",
    "to fixed lines also in Bangalore? In other words, of all the calls made\n",
    "from a number starting with \"(080)\", what percentage of these calls\n",
    "were made to a number also starting with \"(080)\"?\n",
    "\n",
    "Print the answer as a part of a message::\n",
    "\"(percentage) percent of calls from fixed lines in Bangalore are calls\n",
    "to other fixed lines in Bangalore.\"\n",
    "The percentage should have 2 decimal digits"
   ]
  },
  {
   "cell_type": "code",
   "execution_count": null,
   "id": "ebefc6d5",
   "metadata": {},
   "outputs": [],
   "source": [
    "# Create a list containing calls made by (080) area code:\n",
    "bangalorecalls = []\n",
    "for row in calls:\n",
    "    if '(080)' in row[0]:\n",
    "        bangalorecalls.append(row)\n",
    "\n",
    "# From the above, create a list containing calls made to fixed lines also in bangalore\n",
    "bangalorecallstobangalore = []\n",
    "for row in bangalorecalls:\n",
    "    if '(080)' in row[1]:\n",
    "        bangalorecallstobangalore.append(row)\n",
    "\n",
    "# Calculate percentage based on length of lists\n",
    "answer = len(bangalorecallstobangalore) / len(bangalorecalls) * 100\n",
    "answer = \"{:.2f}\".format(answer)\n",
    "\n",
    "# Print results\n",
    "print(answer, \"percentage of calls from fixed lines in Bangalore are calls to other fixed lines in Bangalore.\")"
   ]
  },
  {
   "cell_type": "markdown",
   "id": "e03a6183",
   "metadata": {},
   "source": [
    "### Task 4 "
   ]
  },
  {
   "cell_type": "markdown",
   "id": "b5cc2e9f",
   "metadata": {},
   "source": [
    "TASK 4:\n",
    "The telephone company want to identify numbers that might be doing\n",
    "telephone marketing. Create a set of possible telemarketers:\n",
    "these are numbers that make outgoing calls but never send texts,\n",
    "receive texts or receive incoming calls.\n",
    "\n",
    "Print a message:\n",
    "\"These numbers could be telemarketers: (list of numbers)\"\n",
    "The list of numbers should be print out one per line in lexicographic order with no duplicates."
   ]
  },
  {
   "cell_type": "code",
   "execution_count": null,
   "id": "40937439",
   "metadata": {},
   "outputs": [],
   "source": [
    "# Read file into texts and calls\n",
    "import csv\n",
    "\n",
    "with open('texts.csv', 'r') as f:\n",
    "    reader = csv.reader(f)\n",
    "    texts = list(reader)\n",
    "\n",
    "with open('calls.csv', 'r') as f:\n",
    "    reader = csv.reader(f)\n",
    "    calls = list(reader)"
   ]
  },
  {
   "cell_type": "code",
   "execution_count": null,
   "id": "32a0add2",
   "metadata": {},
   "outputs": [],
   "source": [
    "# Create list of unique phone numbers that make outgoing calls\n",
    "makecalls = []\n",
    "for row in calls:\n",
    "    if row[0] not in makecalls:\n",
    "        makecalls.append(row[0])\n",
    "        \n",
    "# Create a list of unique phone numbers that receive incoming calls\n",
    "receivecalls = []\n",
    "for row in calls:\n",
    "    if row[1] not in receivecalls:\n",
    "        receivecalls.append(row[1])\n",
    "\n",
    "# Create a list of unique phone numbers that sent texts\n",
    "senttexts = []\n",
    "for row in texts:\n",
    "    if row[0] not in senttexts:\n",
    "        senttexts.append(row[0])\n",
    "\n",
    "# Create a list of unique phone numbers that receive texts\n",
    "receivetexts = []\n",
    "for row in texts:\n",
    "    if row[0] not in receivetexts:\n",
    "        receivetexts.append(row[0])\n",
    "\n",
    "# Create a list of unique phone numbers that make calls but never send texts, receive texts or receive incoming calls\n",
    "posstelemkt = []\n",
    "for row in makecalls:\n",
    "    if row not in (receivecalls or senttexts or receivetexts):\n",
    "        posstelemkt.append(row)\n",
    "        \n",
    "# Sort possible telemarketers\n",
    "posstelemkt = sorted(posstelemkt)\n",
    "\n",
    "# Print message\n",
    "print(\"These numbers could be telemarketers:\", *posstelemkt, sep=\"\\n\")"
   ]
  }
 ],
 "metadata": {
  "kernelspec": {
   "display_name": "Python 3",
   "language": "python",
   "name": "python3"
  },
  "language_info": {
   "codemirror_mode": {
    "name": "ipython",
    "version": 3
   },
   "file_extension": ".py",
   "mimetype": "text/x-python",
   "name": "python",
   "nbconvert_exporter": "python",
   "pygments_lexer": "ipython3",
   "version": "3.8.8"
  }
 },
 "nbformat": 4,
 "nbformat_minor": 5
}
