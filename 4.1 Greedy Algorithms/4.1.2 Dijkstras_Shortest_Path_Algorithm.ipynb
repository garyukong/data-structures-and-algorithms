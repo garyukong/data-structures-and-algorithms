{
 "cells": [
  {
   "cell_type": "markdown",
   "metadata": {
    "graffitiCellId": "id_qq1t7ap"
   },
   "source": [
    "## Dijkstra's Shortest Path Algorithm\n",
    "Suppose there is graph having nodes, where each node represents a city. A few pair of nodes are connected to each other, with their distance mentioned on the conneting edge, as shown in the figure below:\n",
    "<img style=\"float: center;height:250px;\" src=\"graph1.png\"><br>\n",
    "\n",
    "To find the shortest path from a given source to destination node in the example above, a Greedy approach would be - *At each current node, keep track of the nearest neighbour. We can determine the path in the reverse order once we have a table of nearest neighbours (optimal previous nodes).* For example, C is the optimal previous node for E. This way, the shortest path from `A` to `E` would be `A --> D --> C --> E`, as shown below:\n",
    "<img style=\"float: center;height:250px;\" src=\"graph2.png\"><br>\n",
    "\n",
    "And, if we wish to print the distance of each node from `A`, then it would look like:\n",
    "<img style=\"float: center;height:250px;\" src=\"graph3.png\"><br>\n",
    "\n",
    "Here, the **Previous Optimal Node** is the \"best\" node which could lead us to the current node. \n",
    "\n",
    "## The Problem\n",
    "Using Dijkstra's algorithm, find the shortest path to all the nodes starting from a given single source node.  You need to print the distance of each node from the given source node. For the example quoted above, the distance of each node from `A` would be printed as:<br>\n",
    "```\n",
    "{'A': 0, 'D': 2, 'B': 5, 'E': 4, 'C': 3, 'F': 6}\n",
    "```"
   ]
  },
  {
   "cell_type": "markdown",
   "metadata": {
    "graffitiCellId": "id_75htzek"
   },
   "source": [
    "## The Algorithm\n",
    "1. Create a `result` dictionary. At the end of the program, `result` will have the shortest distance (value) for all nodes (key) in the graph. For our example, it will become as `{'A': 0, 'B': 5, 'C': 3, 'D': 2, 'F': 6, 'E': 4}`<br><br>\n",
    "1. Start with the source node. Distance from source to source itself is 0.  <br><br>\n",
    "1. The distance to all other nodes from the source is unknown initially, therefore set the initial distance to infinity.  <br><br>\n",
    "1. Create a set `unvisited` containing nodes that have not been visited. Initially, it will have all nodes of the graph.<br><br>\n",
    "1. Create a `path` dictionary that keeps track of the previous node (value) that can lead to the current node (key). At the end of the program, for our example, it will become as `{'B': 'A', 'C': 'D', 'D': 'A', 'F': 'C', 'E': 'C'}`. <br><br>\n",
    "1. As long as `unvisited` is non-empty, repeat the following:\n",
    " - Find the unvisited node having smallest known distance from the source node.  <br><br>\n",
    " - For the current node, find all the **unvisited neighbours**. For this, you have calculate the distance of each unvisited neighbour.  <br><br>\n",
    " - If the calculated distance of the **unvisited neighbour** is less than the already known distance in `result` dictionary, update the shortest distance in the `result` dictionary. <br><br>\n",
    " - If there is an update in the `result` dictionary, you need to update the `path` dictionary as well for the same key. <br><br>\n",
    " - Remove the current node from the `unvisited` set.\n",
    "\n",
    "\n",
    "**Note** - This implementation of the Dijkstra's algorithm is not very efficient. Currently it has a *O(n^2)* time complexity. We will see a better version in the next lesson - \"Graph Algorithms\" with *O(nlogn)* time complexity."
   ]
  },
  {
   "cell_type": "code",
   "execution_count": 2,
   "metadata": {
    "graffitiCellId": "id_kowh9ph"
   },
   "outputs": [
    {
     "name": "stdout",
     "output_type": "stream",
     "text": [
      "Set of Nodes are:  {'B', 'A'}\n",
      "Neighbours are:  defaultdict(<class 'list'>, {'A': ['B'], 'B': ['A']})\n",
      "Distances are:  {('A', 'B'): 5, ('B', 'A'): 5}\n",
      "{'B': inf, 'A': inf}\n"
     ]
    }
   ],
   "source": [
    "# Helper Code\n",
    "from collections import defaultdict\n",
    "class Graph:\n",
    "    def __init__(self):\n",
    "        self.nodes = set()                   # A set cannot contain duplicate nodes\n",
    "        self.neighbours = defaultdict(list)  # Defaultdict is a child class of Dictionary that provides a default value for a key that does not exists.\n",
    "        self.distances = {}                  # Dictionary. An example record as ('A', 'B'): 6 shows the distance between 'A' to 'B' is 6 units\n",
    "\n",
    "    def add_node(self, value):\n",
    "        self.nodes.add(value)\n",
    "\n",
    "    def add_edge(self, from_node, to_node, distance):\n",
    "        self.neighbours[from_node].append(to_node)\n",
    "        self.neighbours[to_node].append(from_node)\n",
    "        self.distances[(from_node, to_node)] = distance\n",
    "        self.distances[(to_node, from_node)] = distance    # lets make the graph undirected / bidirectional \n",
    "        \n",
    "    def print_graph(self):\n",
    "        print(\"Set of Nodes are: \", self.nodes)\n",
    "        print(\"Neighbours are: \", self.neighbours)\n",
    "        print(\"Distances are: \", self.distances)\n",
    "\n",
    "graph = Graph()\n",
    "graph.add_node('A')\n",
    "graph.add_node('B')\n",
    "graph.add_edge('A','B',5)\n",
    "graph.print_graph()\n",
    "\n",
    "dic = {key : float('inf') for key in graph.nodes}\n",
    "print(dic)\n"
   ]
  },
  {
   "cell_type": "markdown",
   "metadata": {
    "graffitiCellId": "id_cgrnklc"
   },
   "source": [
    "### Exercise - Write the function definition here\n"
   ]
  },
  {
   "cell_type": "code",
   "execution_count": 74,
   "metadata": {},
   "outputs": [],
   "source": [
    "''' TO DO: Find the shortest path from the source node to every other node in the given graph '''\n",
    "def dijkstra(graph, source):\n",
    "    # Create a `result` dictionary.\n",
    "    # At the end of the program, `result` will have the shortest distance (value) for all nodes (key) in the graph.\n",
    "    # For our example, it will become as `{'A': 0, 'B': 5, 'C': 3, 'D': 2, 'F': 6, 'E': 4}\n",
    "    result = {key : 9999999999 for key in graph.nodes}\n",
    "    result[source] = 0\n",
    "    \n",
    "    # Create a set to keep track of unvisited nodes\n",
    "    unvisited = set(graph.nodes)\n",
    "\n",
    "    # Create a `path` dictionary that keeps track of the previous node (value) that can lead to the current node (key).\n",
    "    # At the end of the program, for our example, it will become as `{'B': 'A', 'C': 'D', 'D': 'A', 'F': 'C', 'E': 'C'}`.\n",
    "    path = {}\n",
    "\n",
    "    iteration = 0\n",
    "    # As long as unvisited is non-empty\n",
    "    while unvisited:\n",
    "        print(f'ITERATION {iteration}')\n",
    "        iteration += 1\n",
    "        # 1. Find the unvisited node having smallest known distance from the source node.\n",
    "        current_node = None\n",
    "        for node in unvisited:\n",
    "            if current_node == None:\n",
    "                current_node = node\n",
    "            elif result[node] < result[current_node]:\n",
    "                current_node = node\n",
    "        print(f'current_node: {current_node}')\n",
    "\n",
    "        # 2. For the current node, find all the unvisited neighbours. For this, you have calculate the distance of each unvisited neighbour.\n",
    "\n",
    "        unvisited_neighbours = set(graph.neighbours[current_node]).intersection(unvisited)\n",
    "        print(f'unvisited_neighbours: {unvisited_neighbours}')\n",
    "\n",
    "        for node in unvisited_neighbours:\n",
    "            # Calc distance: distance between the current node and the source(result[node]) +  distance between the current node and the neighbor(graph.distances[(current_node, node)]\n",
    "            distance = result[current_node] + graph.distances[(current_node, node)] \n",
    "            print(f'\\tnode: {node}, distance: {distance}')\n",
    "            # 3. If the calculated distance of the unvisited neighbour is less than the already known distance in result dictionary, update the shortest distance in the result dictionary.        \n",
    "            if distance < result[node]:\n",
    "                result[node] = distance\n",
    "                # 4. If there is an update in the result dictionary, you need to update the path dictionary as well for the same key.\n",
    "                path[node] = current_node\n",
    "                    \n",
    "        # 5. Remove the current node from the unvisited set.\n",
    "        unvisited.remove(current_node)\n",
    "\n",
    "        print(f'result: {result}')\n",
    "        print(f'path: {path}')\n",
    "        print()\n",
    "\n",
    "    return result"
   ]
  },
  {
   "cell_type": "code",
   "execution_count": 3,
   "metadata": {},
   "outputs": [
    {
     "name": "stdout",
     "output_type": "stream",
     "text": [
      "{'A': 0, 'B': 3, 'E': 3, 'C': 4, 'D': 2}\n"
     ]
    }
   ],
   "source": [
    "# SOLUTION FROM UDACITY\n",
    "import sys\n",
    "\n",
    "'''Find the shortest path from the source node to every other node in the given graph'''\n",
    "def dijkstra(graph, source):\n",
    "    \n",
    "    # Create a results dictionary to store the shortest path distances for each node, setting source at 0 and others at infinity\n",
    "    result = {}\n",
    "    result[source] = 0                 \n",
    "    \n",
    "    for node in graph.nodes:\n",
    "        if (node != source):\n",
    "            result[node] = sys.maxsize\n",
    "            \n",
    "    # Create a set of unvisited nodes\n",
    "    unvisited = set(graph.nodes)  \n",
    "    \n",
    "    # Create an empty path dictionary\n",
    "    path = {}\n",
    "\n",
    "    '''THE GREEDY APPROACH'''\n",
    "    # As long as unvisited is non-empty\n",
    "    while unvisited: \n",
    "        min_node = None    \n",
    "        \n",
    "        # 1. Find the unvisited node having smallest known distance from the source node.\n",
    "        for node in unvisited:\n",
    "            if node in result:\n",
    "                \n",
    "                # Initialise min_node as the first node\n",
    "                if min_node is None:       \n",
    "                    min_node = node\n",
    "                \n",
    "                # Check to see if other nodes have smaller values; if so update min_node\n",
    "                elif result[node] < result[min_node]:\n",
    "                    min_node = node\n",
    "\n",
    "        if min_node is None:\n",
    "            break\n",
    "            \n",
    "        # known distance of min_node\n",
    "        current_distance = result[min_node]\n",
    "        \n",
    "        # 2. For the current node, find all the unvisited neighbours. \n",
    "        # For this, you have calculate the distance of each unvisited neighbour.\n",
    "        for neighbour in graph.neighbours[min_node]:\n",
    "            if neighbour in unvisited:\n",
    "                distance = current_distance + graph.distances[(min_node, neighbour)]\n",
    "            \n",
    "                # 3. If the calculated distance of the unvisited neighbour is less than the already known distance in result dictionary, update the shortest distance in the result dictionary.\n",
    "                if ((neighbour not in result) or (distance < result[neighbour])):\n",
    "                    result[neighbour] = distance\n",
    "\n",
    "                    # 4. If there is an update in the result dictionary, you need to update the path dictionary as well for the same key.\n",
    "                    path[neighbour] = min_node\n",
    "        \n",
    "        # 5. Remove the current node from the unvisited set.\n",
    "        unvisited.remove(min_node)\n",
    "\n",
    "    return result\n",
    "\n",
    "# Test 1\n",
    "testGraph = Graph()\n",
    "for node in ['A', 'B', 'C', 'D', 'E']:\n",
    "    testGraph.add_node(node)\n",
    "\n",
    "testGraph.add_edge('A','B',3)\n",
    "testGraph.add_edge('A','D',2)\n",
    "testGraph.add_edge('B','D',4)\n",
    "testGraph.add_edge('B','E',6)\n",
    "testGraph.add_edge('B','C',1)\n",
    "testGraph.add_edge('C','E',2)\n",
    "testGraph.add_edge('E','D',1)\n",
    "\n",
    "print(dijkstra(testGraph, 'A'))     # {'A': 0, 'D': 2, 'B': 3, 'E': 3, 'C': 4}"
   ]
  },
  {
   "cell_type": "markdown",
   "metadata": {
    "graffitiCellId": "id_o6c8r2m"
   },
   "source": [
    "<span class=\"graffiti-highlight graffiti-id_o6c8r2m-id_8a6oxze\"><i></i><button>Show Solution</button></span>"
   ]
  },
  {
   "cell_type": "markdown",
   "metadata": {
    "graffitiCellId": "id_hae4wv9"
   },
   "source": [
    "### Test - Let's test your function"
   ]
  },
  {
   "cell_type": "code",
   "execution_count": 75,
   "metadata": {
    "graffitiCellId": "id_gh91otb"
   },
   "outputs": [
    {
     "name": "stdout",
     "output_type": "stream",
     "text": [
      "ITERATION 0\n",
      "current_node: A\n",
      "unvisited_neighbours: {'B', 'D'}\n",
      "\tnode: B, distance: 3\n",
      "\tnode: D, distance: 2\n",
      "result: {'B': 3, 'A': 0, 'E': 9999999999, 'C': 9999999999, 'D': 2}\n",
      "path: {'B': 'A', 'D': 'A'}\n",
      "\n",
      "ITERATION 1\n",
      "current_node: D\n",
      "unvisited_neighbours: {'E', 'B'}\n",
      "\tnode: E, distance: 3\n",
      "\tnode: B, distance: 6\n",
      "result: {'B': 3, 'A': 0, 'E': 3, 'C': 9999999999, 'D': 2}\n",
      "path: {'B': 'A', 'D': 'A', 'E': 'D'}\n",
      "\n",
      "ITERATION 2\n",
      "current_node: B\n",
      "unvisited_neighbours: {'E', 'C'}\n",
      "\tnode: E, distance: 9\n",
      "\tnode: C, distance: 4\n",
      "result: {'B': 3, 'A': 0, 'E': 3, 'C': 4, 'D': 2}\n",
      "path: {'B': 'A', 'D': 'A', 'E': 'D', 'C': 'B'}\n",
      "\n",
      "ITERATION 3\n",
      "current_node: E\n",
      "unvisited_neighbours: {'C'}\n",
      "\tnode: C, distance: 5\n",
      "result: {'B': 3, 'A': 0, 'E': 3, 'C': 4, 'D': 2}\n",
      "path: {'B': 'A', 'D': 'A', 'E': 'D', 'C': 'B'}\n",
      "\n",
      "ITERATION 4\n",
      "current_node: C\n",
      "unvisited_neighbours: set()\n",
      "result: {'B': 3, 'A': 0, 'E': 3, 'C': 4, 'D': 2}\n",
      "path: {'B': 'A', 'D': 'A', 'E': 'D', 'C': 'B'}\n",
      "\n",
      "{'B': 3, 'A': 0, 'E': 3, 'C': 4, 'D': 2}\n"
     ]
    }
   ],
   "source": [
    "# Test 1\n",
    "testGraph = Graph()\n",
    "for node in ['A', 'B', 'C', 'D', 'E']:\n",
    "    testGraph.add_node(node)\n",
    "\n",
    "testGraph.add_edge('A','B',3)\n",
    "testGraph.add_edge('A','D',2)\n",
    "testGraph.add_edge('B','D',4)\n",
    "testGraph.add_edge('B','E',6)\n",
    "testGraph.add_edge('B','C',1)\n",
    "testGraph.add_edge('C','E',2)\n",
    "testGraph.add_edge('E','D',1)\n",
    "\n",
    "print(dijkstra(testGraph, 'A'))     # {'A': 0, 'D': 2, 'B': 3, 'E': 3, 'C': 4}"
   ]
  },
  {
   "cell_type": "code",
   "execution_count": 76,
   "metadata": {
    "graffitiCellId": "id_i5pengy"
   },
   "outputs": [
    {
     "name": "stdout",
     "output_type": "stream",
     "text": [
      "ITERATION 0\n",
      "current_node: A\n",
      "unvisited_neighbours: {'C', 'B'}\n",
      "\tnode: C, distance: 10\n",
      "\tnode: B, distance: 5\n",
      "result: {'C': 10, 'B': 5, 'A': 0}\n",
      "path: {'C': 'A', 'B': 'A'}\n",
      "\n",
      "ITERATION 1\n",
      "current_node: B\n",
      "unvisited_neighbours: {'C'}\n",
      "\tnode: C, distance: 10\n",
      "result: {'C': 10, 'B': 5, 'A': 0}\n",
      "path: {'C': 'A', 'B': 'A'}\n",
      "\n",
      "ITERATION 2\n",
      "current_node: C\n",
      "unvisited_neighbours: set()\n",
      "result: {'C': 10, 'B': 5, 'A': 0}\n",
      "path: {'C': 'A', 'B': 'A'}\n",
      "\n",
      "{'C': 10, 'B': 5, 'A': 0}\n"
     ]
    }
   ],
   "source": [
    "# Test 2\n",
    "graph = Graph()\n",
    "for node in ['A', 'B', 'C']:\n",
    "    graph.add_node(node)\n",
    "    \n",
    "graph.add_edge('A', 'B', 5)\n",
    "graph.add_edge('B', 'C', 5)\n",
    "graph.add_edge('A', 'C', 10)\n",
    "\n",
    "print(dijkstra(graph, 'A'))        # {'A': 0, 'C': 10, 'B': 5}"
   ]
  },
  {
   "cell_type": "code",
   "execution_count": 77,
   "metadata": {
    "graffitiCellId": "id_mna3duu"
   },
   "outputs": [
    {
     "name": "stdout",
     "output_type": "stream",
     "text": [
      "ITERATION 0\n",
      "current_node: A\n",
      "unvisited_neighbours: {'C', 'B', 'D'}\n",
      "\tnode: C, distance: 4\n",
      "\tnode: B, distance: 5\n",
      "\tnode: D, distance: 2\n",
      "result: {'F': 9999999999, 'B': 5, 'A': 0, 'E': 9999999999, 'C': 4, 'D': 2}\n",
      "path: {'C': 'A', 'B': 'A', 'D': 'A'}\n",
      "\n",
      "ITERATION 1\n",
      "current_node: D\n",
      "unvisited_neighbours: {'C'}\n",
      "\tnode: C, distance: 3\n",
      "result: {'F': 9999999999, 'B': 5, 'A': 0, 'E': 9999999999, 'C': 3, 'D': 2}\n",
      "path: {'C': 'D', 'B': 'A', 'D': 'A'}\n",
      "\n",
      "ITERATION 2\n",
      "current_node: C\n",
      "unvisited_neighbours: {'E', 'F', 'B'}\n",
      "\tnode: E, distance: 4\n",
      "\tnode: F, distance: 6\n",
      "\tnode: B, distance: 5\n",
      "result: {'F': 6, 'B': 5, 'A': 0, 'E': 4, 'C': 3, 'D': 2}\n",
      "path: {'C': 'D', 'B': 'A', 'D': 'A', 'E': 'C', 'F': 'C'}\n",
      "\n",
      "ITERATION 3\n",
      "current_node: E\n",
      "unvisited_neighbours: {'F'}\n",
      "\tnode: F, distance: 6\n",
      "result: {'F': 6, 'B': 5, 'A': 0, 'E': 4, 'C': 3, 'D': 2}\n",
      "path: {'C': 'D', 'B': 'A', 'D': 'A', 'E': 'C', 'F': 'C'}\n",
      "\n",
      "ITERATION 4\n",
      "current_node: B\n",
      "unvisited_neighbours: {'F'}\n",
      "\tnode: F, distance: 7\n",
      "result: {'F': 6, 'B': 5, 'A': 0, 'E': 4, 'C': 3, 'D': 2}\n",
      "path: {'C': 'D', 'B': 'A', 'D': 'A', 'E': 'C', 'F': 'C'}\n",
      "\n",
      "ITERATION 5\n",
      "current_node: F\n",
      "unvisited_neighbours: set()\n",
      "result: {'F': 6, 'B': 5, 'A': 0, 'E': 4, 'C': 3, 'D': 2}\n",
      "path: {'C': 'D', 'B': 'A', 'D': 'A', 'E': 'C', 'F': 'C'}\n",
      "\n",
      "{'F': 6, 'B': 5, 'A': 0, 'E': 4, 'C': 3, 'D': 2}\n"
     ]
    }
   ],
   "source": [
    "# Test 3\n",
    "graph = Graph()\n",
    "for node in ['A', 'B', 'C', 'D', 'E', 'F']:\n",
    "    graph.add_node(node)\n",
    "    \n",
    "graph.add_edge('A', 'B', 5)\n",
    "graph.add_edge('A', 'C', 4)\n",
    "graph.add_edge('D', 'C', 1)\n",
    "graph.add_edge('B', 'C', 2)\n",
    "graph.add_edge('A', 'D', 2)\n",
    "graph.add_edge('B', 'F', 2)\n",
    "graph.add_edge('C', 'F', 3)\n",
    "graph.add_edge('E', 'F', 2)\n",
    "graph.add_edge('C', 'E', 1)\n",
    "\n",
    "print(dijkstra(graph, 'A'))       # {'A': 0, 'C': 3, 'B': 5, 'E': 4, 'D': 2, 'F': 6}"
   ]
  }
 ],
 "metadata": {
  "graffiti": {
   "firstAuthorId": "af9e0b36-2ad2-11ea-83c4-a78dc7ef519f",
   "id": "id_muf5xfw",
   "language": "EN"
  },
  "kernelspec": {
   "display_name": "Python 3",
   "language": "python",
   "name": "python3"
  },
  "language_info": {
   "codemirror_mode": {
    "name": "ipython",
    "version": 3
   },
   "file_extension": ".py",
   "mimetype": "text/x-python",
   "name": "python",
   "nbconvert_exporter": "python",
   "pygments_lexer": "ipython3",
   "version": "3.10.0"
  }
 },
 "nbformat": 4,
 "nbformat_minor": 2
}
