{
 "cells": [
  {
   "cell_type": "markdown",
   "metadata": {},
   "source": [
    "Rearrange Array Elements so as to form two number such that their sum is maximum. Return these two numbers. You can assume that all array elements are in the range [0, 9]. The number of digits in both the numbers cannot differ by more than 1. You're not allowed to use any sorting function that Python provides and the expected time complexity is O(nlog(n)).\n",
    "\n",
    "for e.g. [1, 2, 3, 4, 5]\n",
    "\n",
    "The expected answer would be [531, 42]. Another expected answer can be [542, 31]. In scenarios such as these when there are more than one possible answers, return any one.\n",
    "\n",
    "Here is some boilerplate code and test cases to start with:"
   ]
  },
  {
   "cell_type": "code",
   "execution_count": 85,
   "metadata": {},
   "outputs": [
    {
     "name": "stdout",
     "output_type": "stream",
     "text": [
      "Pass\n",
      "Pass\n",
      "Pass\n",
      "Pass\n",
      "Pass\n"
     ]
    }
   ],
   "source": [
    "# Helper reversed mergesort functions\n",
    "def reverse_mergesort(items):\n",
    "\n",
    "    if len(items) <= 1:\n",
    "        return items\n",
    "    \n",
    "    mid = len(items) // 2\n",
    "    left = items[:mid]\n",
    "    right = items[mid:]\n",
    "    \n",
    "    left = reverse_mergesort(left)\n",
    "    right = reverse_mergesort(right)\n",
    "    \n",
    "    return reverse_merge(left, right)\n",
    "    \n",
    "def reverse_merge(left, right):\n",
    "    \n",
    "    merged = []\n",
    "    left_index = 0\n",
    "    right_index = 0\n",
    "    \n",
    "    while left_index < len(left) and right_index < len(right):\n",
    "        if left[left_index] < right[right_index]:\n",
    "            merged.append(right[right_index])\n",
    "            right_index += 1\n",
    "        else:\n",
    "            merged.append(left[left_index])\n",
    "            left_index += 1\n",
    "\n",
    "    merged += left[left_index:]\n",
    "    merged += right[right_index:]\n",
    "        \n",
    "    return merged\n",
    "\n",
    "def rearrange_digits(input_list):\n",
    "    \"\"\"\n",
    "    Rearrange Array Elements so as to form two number such that their sum is maximum.\n",
    "\n",
    "    Args:\n",
    "       input_list(list): Input List\n",
    "    Returns:\n",
    "       (int),(int): Two maximum sums\n",
    "    \"\"\"\n",
    "    if len(input_list) >= 2:\n",
    "        \n",
    "        # Sort the input list in descending order\n",
    "        sorted_input_list = reverse_mergesort(input_list)\n",
    "\n",
    "        # Create an empty output list for the two maximum sums\n",
    "        out = ['','']\n",
    "\n",
    "        # Iterate through elements of the sorted list\n",
    "        for index, element in enumerate(sorted_input_list):\n",
    "\n",
    "            ## If index is even, concatenate to the first cell of the output list\n",
    "            if index % 2 == 0:\n",
    "                out[0] += str(element)\n",
    "\n",
    "            # If index is odd, concatenate to the second cell of the output list\n",
    "            else:\n",
    "                out[1] += str(element)\n",
    "\n",
    "        # Convert output list into a list of integers\n",
    "        out[0], out[1] = int(out[0]), int(out[1])\n",
    "\n",
    "        return out\n",
    "\n",
    "if __name__ == \"__main__\":\n",
    "    \n",
    "    def test_function(test_case):\n",
    "        output = rearrange_digits(test_case[0])\n",
    "        solution = test_case[1]\n",
    "        if output == solution:\n",
    "            print(\"Pass\")\n",
    "        else:\n",
    "            print(\"Fail\")\n",
    "\n",
    "    # Normal cases\n",
    "    test_function([[1, 2, 3, 4, 5], [531, 42]])\n",
    "    test_function([[4, 6, 2, 5, 9, 8], [964, 852]])\n",
    "    test_function([[9, 9, 9, 9, 9], [999, 99]])\n",
    "\n",
    "    # Edge cases\n",
    "    test_function([[], None])   # Empty element\n",
    "    test_function([[0], None])  # Single element"
   ]
  }
 ],
 "metadata": {
  "interpreter": {
   "hash": "aee8b7b246df8f9039afb4144a1f6fd8d2ca17a180786b69acc140d282b71a49"
  },
  "kernelspec": {
   "display_name": "Python 3.10.0 64-bit",
   "language": "python",
   "name": "python3"
  },
  "language_info": {
   "codemirror_mode": {
    "name": "ipython",
    "version": 3
   },
   "file_extension": ".py",
   "mimetype": "text/x-python",
   "name": "python",
   "nbconvert_exporter": "python",
   "pygments_lexer": "ipython3",
   "version": "3.10.0"
  },
  "orig_nbformat": 4
 },
 "nbformat": 4,
 "nbformat_minor": 2
}
