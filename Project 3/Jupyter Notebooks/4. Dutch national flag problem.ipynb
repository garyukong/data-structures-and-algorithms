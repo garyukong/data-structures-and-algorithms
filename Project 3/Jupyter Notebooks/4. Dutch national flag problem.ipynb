{
 "cells": [
  {
   "cell_type": "markdown",
   "metadata": {},
   "source": [
    "Given an input array consisting on only 0, 1, and 2, sort the array in a single traversal. You're not allowed to use any sorting function that Python provides.\n",
    "\n",
    "Note: O(n) does not necessarily mean single-traversal. For e.g. if you traverse the array twice, that would still be an O(n) solution but it will not count as single traversal.\n",
    "\n",
    "Here is some boilerplate code and test cases to start with:"
   ]
  },
  {
   "cell_type": "code",
   "execution_count": 39,
   "metadata": {},
   "outputs": [
    {
     "name": "stdout",
     "output_type": "stream",
     "text": [
      "[0, 0, 0, 1, 1, 1, 2, 2, 2, 2, 2]\n",
      "Pass\n",
      "[0, 0, 0, 0, 0, 0, 0, 0, 0, 0, 0, 1, 1, 1, 1, 1, 1, 2, 2, 2, 2, 2, 2, 2, 2, 2]\n",
      "Pass\n",
      "[0, 0, 0, 0, 0, 0, 1, 1, 1, 1, 1, 1, 2, 2, 2, 2, 2, 2, 2]\n",
      "Pass\n",
      "[]\n",
      "Pass\n"
     ]
    },
    {
     "ename": "Exception",
     "evalue": "Invalid input: Please only enter 0s, 1s and 2s",
     "output_type": "error",
     "traceback": [
      "\u001b[0;31m---------------------------------------------------------------------------\u001b[0m",
      "\u001b[0;31mException\u001b[0m                                 Traceback (most recent call last)",
      "\u001b[0;32m/var/folders/l0/bzzwm_vx4gnbw4h5m21gb8lr0000gn/T/ipykernel_73792/2127617979.py\u001b[0m in \u001b[0;36m<module>\u001b[0;34m\u001b[0m\n\u001b[1;32m     53\u001b[0m     \u001b[0;31m# Edge cases\u001b[0m\u001b[0;34m\u001b[0m\u001b[0;34m\u001b[0m\u001b[0m\n\u001b[1;32m     54\u001b[0m     \u001b[0mtest_function\u001b[0m\u001b[0;34m(\u001b[0m\u001b[0;34m[\u001b[0m\u001b[0;34m]\u001b[0m\u001b[0;34m)\u001b[0m\u001b[0;34m\u001b[0m\u001b[0;34m\u001b[0m\u001b[0m\n\u001b[0;32m---> 55\u001b[0;31m     \u001b[0mtest_function\u001b[0m\u001b[0;34m(\u001b[0m\u001b[0;34m[\u001b[0m\u001b[0;36m1\u001b[0m\u001b[0;34m,\u001b[0m\u001b[0;36m2\u001b[0m\u001b[0;34m,\u001b[0m\u001b[0;36m3\u001b[0m\u001b[0;34m,\u001b[0m\u001b[0;36m4\u001b[0m\u001b[0;34m,\u001b[0m\u001b[0;36m5\u001b[0m\u001b[0;34m,\u001b[0m\u001b[0;36m6\u001b[0m\u001b[0;34m,\u001b[0m\u001b[0;36m7\u001b[0m\u001b[0;34m,\u001b[0m\u001b[0;36m8\u001b[0m\u001b[0;34m,\u001b[0m\u001b[0;36m9\u001b[0m\u001b[0;34m]\u001b[0m\u001b[0;34m)\u001b[0m \u001b[0;31m# Should raise an exception as numbers other than 0, 1, 2 were inserted\u001b[0m\u001b[0;34m\u001b[0m\u001b[0;34m\u001b[0m\u001b[0m\n\u001b[0m",
      "\u001b[0;32m/var/folders/l0/bzzwm_vx4gnbw4h5m21gb8lr0000gn/T/ipykernel_73792/2127617979.py\u001b[0m in \u001b[0;36mtest_function\u001b[0;34m(test_case)\u001b[0m\n\u001b[1;32m     39\u001b[0m \u001b[0;32mif\u001b[0m \u001b[0m__name__\u001b[0m \u001b[0;34m==\u001b[0m \u001b[0;34m\"__main__\"\u001b[0m\u001b[0;34m:\u001b[0m\u001b[0;34m\u001b[0m\u001b[0;34m\u001b[0m\u001b[0m\n\u001b[1;32m     40\u001b[0m     \u001b[0;32mdef\u001b[0m \u001b[0mtest_function\u001b[0m\u001b[0;34m(\u001b[0m\u001b[0mtest_case\u001b[0m\u001b[0;34m)\u001b[0m\u001b[0;34m:\u001b[0m\u001b[0;34m\u001b[0m\u001b[0;34m\u001b[0m\u001b[0m\n\u001b[0;32m---> 41\u001b[0;31m         \u001b[0msorted_array\u001b[0m \u001b[0;34m=\u001b[0m \u001b[0msort_012\u001b[0m\u001b[0;34m(\u001b[0m\u001b[0mtest_case\u001b[0m\u001b[0;34m)\u001b[0m\u001b[0;34m\u001b[0m\u001b[0;34m\u001b[0m\u001b[0m\n\u001b[0m\u001b[1;32m     42\u001b[0m         \u001b[0mprint\u001b[0m\u001b[0;34m(\u001b[0m\u001b[0msorted_array\u001b[0m\u001b[0;34m)\u001b[0m\u001b[0;34m\u001b[0m\u001b[0;34m\u001b[0m\u001b[0m\n\u001b[1;32m     43\u001b[0m         \u001b[0;32mif\u001b[0m \u001b[0msorted_array\u001b[0m \u001b[0;34m==\u001b[0m \u001b[0msorted\u001b[0m\u001b[0;34m(\u001b[0m\u001b[0mtest_case\u001b[0m\u001b[0;34m)\u001b[0m\u001b[0;34m:\u001b[0m\u001b[0;34m\u001b[0m\u001b[0;34m\u001b[0m\u001b[0m\n",
      "\u001b[0;32m/var/folders/l0/bzzwm_vx4gnbw4h5m21gb8lr0000gn/T/ipykernel_73792/2127617979.py\u001b[0m in \u001b[0;36msort_012\u001b[0;34m(input_list)\u001b[0m\n\u001b[1;32m     33\u001b[0m         \u001b[0;31m# If a number other than 0, 1, 2 is given then raise an exception\u001b[0m\u001b[0;34m\u001b[0m\u001b[0;34m\u001b[0m\u001b[0m\n\u001b[1;32m     34\u001b[0m         \u001b[0;32melse\u001b[0m\u001b[0;34m:\u001b[0m\u001b[0;34m\u001b[0m\u001b[0;34m\u001b[0m\u001b[0m\n\u001b[0;32m---> 35\u001b[0;31m             \u001b[0;32mraise\u001b[0m \u001b[0mException\u001b[0m\u001b[0;34m(\u001b[0m\u001b[0;34m\"Invalid input: Please only enter 0s, 1s and 2s\"\u001b[0m\u001b[0;34m)\u001b[0m\u001b[0;34m\u001b[0m\u001b[0;34m\u001b[0m\u001b[0m\n\u001b[0m\u001b[1;32m     36\u001b[0m \u001b[0;34m\u001b[0m\u001b[0m\n\u001b[1;32m     37\u001b[0m     \u001b[0;32mreturn\u001b[0m \u001b[0minput_list\u001b[0m\u001b[0;34m\u001b[0m\u001b[0;34m\u001b[0m\u001b[0m\n",
      "\u001b[0;31mException\u001b[0m: Invalid input: Please only enter 0s, 1s and 2s"
     ]
    }
   ],
   "source": [
    "def sort_012(input_list):\n",
    "    \"\"\"\n",
    "    Given an input array consisting on only 0, 1, and 2, sort the array in a single traversal.\n",
    "\n",
    "    Args:\n",
    "       input_list(list): List to be sorted\n",
    "    \"\"\"\n",
    "    # Initialise the position of where 0s should go and where 2s should go\n",
    "    next_0 = 0\n",
    "    next_2 = len(input_list) - 1\n",
    "\n",
    "    # Initialise current index at 0\n",
    "    current = 0\n",
    "\n",
    "    # Iterate until all 2s have been moved to the end of the array\n",
    "    while current <= next_2:\n",
    "        \n",
    "        # If the current element is a 2:\n",
    "        if input_list[current] == 2:\n",
    "            input_list[current], input_list[next_2] = input_list[next_2], input_list[current] # Flip position with element at next_2\n",
    "            next_2 -= 1                                                                       # Decrement next_2\n",
    "\n",
    "        # If the current element is a 0:\n",
    "        elif input_list[current] == 0:\n",
    "            input_list[current], input_list[next_0] = input_list[next_0], input_list[current] # Flip position with element at next_0\n",
    "            next_0 += 1                                                                       # Increment next_0\n",
    "            current +=1                                                                       # Increment current\n",
    "\n",
    "        # If the current element is a 1:\n",
    "        elif input_list[current] == 1:\n",
    "            current += 1                                                                      # Increment current\n",
    "\n",
    "        # If a number other than 0, 1, 2 is given then raise an exception\n",
    "        else:\n",
    "            raise Exception(\"Invalid input: Please only enter 0s, 1s and 2s\")\n",
    "\n",
    "    return input_list\n",
    "\n",
    "if __name__ == \"__main__\":    \n",
    "    def test_function(test_case):\n",
    "        sorted_array = sort_012(test_case)\n",
    "        print(sorted_array)\n",
    "        if sorted_array == sorted(test_case):\n",
    "            print(\"Pass\")\n",
    "        else:\n",
    "            print(\"Fail\")\n",
    "\n",
    "    # Standard cases\n",
    "    test_function([0, 0, 2, 2, 2, 1, 1, 1, 2, 0, 2])\n",
    "    test_function([2, 1, 2, 0, 0, 2, 1, 0, 1, 0, 0, 2, 2, 2, 1, 2, 0, 0, 0, 2, 1, 0, 2, 0, 0, 1])\n",
    "    test_function([0, 0, 0, 0, 0, 0, 1, 1, 1, 1, 1, 1, 2, 2, 2, 2, 2, 2, 2])\n",
    "\n",
    "    # Edge cases\n",
    "    test_function([])\n",
    "    test_function([1,2,3,4,5,6,7,8,9]) # Should raise an exception as numbers other than 0, 1, 2 were inserted"
   ]
  },
  {
   "cell_type": "code",
   "execution_count": null,
   "metadata": {},
   "outputs": [],
   "source": [
    "def sort_012(input_list):\n",
    "    \"\"\"\n",
    "    The idea is to put 0 and 2 in their correct positions, which will make sure\n",
    "    all the 1s are automatically placed in their right positions\n",
    "    \"\"\"\n",
    "    # initialize pointers for next positions of 0 and 2\n",
    "    next_pos_0 = 0\n",
    "    next_pos_2 = len(input_list) - 1\n",
    "\n",
    "    front_index = 0\n",
    "\n",
    "    while front_index <= next_pos_2:\n",
    "        if input_list[front_index] == 0:\n",
    "            input_list[front_index], input_list[next_pos_0] = input_list[next_pos_0], input_list[front_index]\n",
    "            next_pos_0 += 1\n",
    "            front_index += 1\n",
    "        elif input_list[front_index] == 2:           \n",
    "            input_list[front_index], input_list[next_pos_2] = input_list[next_pos_2], input_list[front_index] \n",
    "            next_pos_2 -= 1\n",
    "        else:\n",
    "            front_index += 1"
   ]
  }
 ],
 "metadata": {
  "interpreter": {
   "hash": "aee8b7b246df8f9039afb4144a1f6fd8d2ca17a180786b69acc140d282b71a49"
  },
  "kernelspec": {
   "display_name": "Python 3.10.0 64-bit",
   "language": "python",
   "name": "python3"
  },
  "language_info": {
   "codemirror_mode": {
    "name": "ipython",
    "version": 3
   },
   "file_extension": ".py",
   "mimetype": "text/x-python",
   "name": "python",
   "nbconvert_exporter": "python",
   "pygments_lexer": "ipython3",
   "version": "3.10.0"
  },
  "orig_nbformat": 4
 },
 "nbformat": 4,
 "nbformat_minor": 2
}
