{
 "cells": [
  {
   "cell_type": "markdown",
   "metadata": {},
   "source": [
    "Find the square root of the integer without using any Python library. You have to find the floor value of the square root.\n",
    "\n",
    "For example if the given number is 16, then the answer would be 4.\n",
    "\n",
    "If the given number is 27, the answer would be 5 because sqrt(5) = 5.196 whose floor value is 5.\n",
    "\n",
    "The expected time complexity is O(log(n))\n",
    "\n",
    "Here is some boilerplate code and test cases to start with:"
   ]
  },
  {
   "cell_type": "code",
   "execution_count": 47,
   "metadata": {},
   "outputs": [
    {
     "name": "stdout",
     "output_type": "stream",
     "text": [
      "Pass\n",
      "Pass\n",
      "Pass\n",
      "Pass\n",
      "Pass\n",
      "Pass\n",
      "Pass\n",
      "Pass\n",
      "Pass\n"
     ]
    },
    {
     "ename": "TypeError",
     "evalue": "sqrt() missing 1 required positional argument: 'number'",
     "output_type": "error",
     "traceback": [
      "\u001b[0;31m---------------------------------------------------------------------------\u001b[0m",
      "\u001b[0;31mTypeError\u001b[0m                                 Traceback (most recent call last)",
      "\u001b[0;32m/var/folders/l0/bzzwm_vx4gnbw4h5m21gb8lr0000gn/T/ipykernel_9262/1445441718.py\u001b[0m in \u001b[0;36m<module>\u001b[0;34m\u001b[0m\n\u001b[1;32m     54\u001b[0m \u001b[0;34m\u001b[0m\u001b[0m\n\u001b[1;32m     55\u001b[0m     \u001b[0;31m# Cases with empty number and string - both should return an error\u001b[0m\u001b[0;34m\u001b[0m\u001b[0;34m\u001b[0m\u001b[0m\n\u001b[0;32m---> 56\u001b[0;31m     \u001b[0msqrt\u001b[0m\u001b[0;34m(\u001b[0m\u001b[0;34m)\u001b[0m\u001b[0;34m\u001b[0m\u001b[0;34m\u001b[0m\u001b[0m\n\u001b[0m\u001b[1;32m     57\u001b[0m     \u001b[0msqrt\u001b[0m\u001b[0;34m(\u001b[0m\u001b[0;34m''\u001b[0m\u001b[0;34m)\u001b[0m\u001b[0;34m\u001b[0m\u001b[0;34m\u001b[0m\u001b[0m\n\u001b[1;32m     58\u001b[0m \u001b[0;34m\u001b[0m\u001b[0m\n",
      "\u001b[0;31mTypeError\u001b[0m: sqrt() missing 1 required positional argument: 'number'"
     ]
    }
   ],
   "source": [
    "def sqrt(number):\n",
    "    \"\"\"\n",
    "    Calculate the floored square root of a number\n",
    "\n",
    "    Args:\n",
    "       number(int): Number to find the floored squared root\n",
    "    Returns:\n",
    "       int: Floored Square Root\n",
    "    \"\"\"\n",
    "    def sqrt_recursive(number, lower, upper):\n",
    "        # Case 0: number is less than or equal to 1\n",
    "        if number <= 1:\n",
    "            return number\n",
    "\n",
    "        # Find midpoint and squared value of midpoint\n",
    "        mid = (lower + upper) // 2\n",
    "        mid_squared = mid * mid\n",
    "\n",
    "        # Case 1: midpoint squared equals number -> return midpoint\n",
    "        if mid_squared == number:\n",
    "            return mid\n",
    "\n",
    "        # Case 2: midpoint is less than 1 -> take lower value as floored square root\n",
    "        elif mid - lower < 1:\n",
    "            return lower\n",
    "\n",
    "        # Case 3: midpoint squared is greater than number -> recur on the left side\n",
    "        elif mid_squared > number:\n",
    "            return sqrt_recursive(number, lower, mid)\n",
    "\n",
    "        # Case 4: midpoint squared is less than number -> recur on the right side\n",
    "        elif mid_squared < number:\n",
    "            return sqrt_recursive(number, mid, upper)\n",
    "\n",
    "    return sqrt_recursive(number, 0, number)\n",
    "\n",
    "# Test cases\n",
    "if __name__ == \"__main__\":\n",
    "\n",
    "    # Cases which have an integer square root\n",
    "    print (\"Pass\" if (0 == sqrt(0)) else \"Fail\")\n",
    "    print (\"Pass\" if (1 == sqrt(1)) else \"Fail\")\n",
    "    print (\"Pass\" if (3 == sqrt(9)) else \"Fail\")\n",
    "    print (\"Pass\" if (4 == sqrt(16)) else \"Fail\")\n",
    "\n",
    "    # Cases which do not have an integer square root\n",
    "    print (\"Pass\" if (5 == sqrt(27)) else \"Fail\")\n",
    "    print (\"Pass\" if (6 == sqrt(37)) else \"Fail\")\n",
    "    print (\"Pass\" if (7 == sqrt(52)) else \"Fail\")\n",
    "\n",
    "    # Cases with very large numbers\n",
    "    print (\"Pass\" if (1000 == sqrt(1000000)) else \"Fail\")\n",
    "    print (\"Pass\" if (3162 == sqrt(9999999)) else \"Fail\")\n",
    "\n",
    "    # Cases with empty number and string - both should return an error\n",
    "    sqrt()\n",
    "    sqrt('')\n",
    "\n"
   ]
  }
 ],
 "metadata": {
  "interpreter": {
   "hash": "aee8b7b246df8f9039afb4144a1f6fd8d2ca17a180786b69acc140d282b71a49"
  },
  "kernelspec": {
   "display_name": "Python 3.10.0 64-bit",
   "language": "python",
   "name": "python3"
  },
  "language_info": {
   "codemirror_mode": {
    "name": "ipython",
    "version": 3
   },
   "file_extension": ".py",
   "mimetype": "text/x-python",
   "name": "python",
   "nbconvert_exporter": "python",
   "pygments_lexer": "ipython3",
   "version": "3.10.0"
  },
  "orig_nbformat": 4
 },
 "nbformat": 4,
 "nbformat_minor": 2
}
