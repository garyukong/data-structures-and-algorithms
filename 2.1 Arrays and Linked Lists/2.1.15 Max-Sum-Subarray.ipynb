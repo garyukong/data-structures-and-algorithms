{
 "cells": [
  {
   "cell_type": "markdown",
   "metadata": {
    "graffitiCellId": "id_9vap74c"
   },
   "source": [
    "### Problem Statement\n",
    "\n",
    "You have been given an array containg numbers. Find and return the largest sum in a contiguous subarray within the input array.\n",
    "\n",
    "**Example 1:**\n",
    "* `arr= [1, 2, 3, -4, 6]`\n",
    "* The largest sum is `8`, which is the sum of all elements of the array.\n",
    "\n",
    "**Example 2:**\n",
    "* `arr = [1, 2, -5, -4, 1, 6]`\n",
    "* The largest sum is `7`, which is the sum of the last two elements of the array.\n",
    "\n",
    "\n",
    "\n",
    " "
   ]
  },
  {
   "cell_type": "code",
   "execution_count": 74,
   "metadata": {
    "graffitiCellId": "id_ok5cosl"
   },
   "outputs": [
    {
     "name": "stdout",
     "output_type": "stream",
     "text": [
      "i: 0. j: 1. subarray to append: [1].\n",
      "i: 0. j: 2. subarray to append: [1, 2].\n",
      "i: 0. j: 3. subarray to append: [1, 2, 3].\n",
      "i: 0. j: 4. subarray to append: [1, 2, 3, 4].\n",
      "i: 0. j: 5. subarray to append: [1, 2, 3, 4, 5].\n",
      "i: 1. j: 1. subarray to append: [2].\n",
      "i: 1. j: 2. subarray to append: [2, 3].\n",
      "i: 1. j: 3. subarray to append: [2, 3, 4].\n",
      "i: 1. j: 4. subarray to append: [2, 3, 4, 5].\n",
      "i: 2. j: 1. subarray to append: [3].\n",
      "i: 2. j: 2. subarray to append: [3, 4].\n",
      "i: 2. j: 3. subarray to append: [3, 4, 5].\n",
      "i: 3. j: 1. subarray to append: [4].\n",
      "i: 3. j: 2. subarray to append: [4, 5].\n",
      "i: 4. j: 1. subarray to append: [5].\n"
     ]
    },
    {
     "data": {
      "text/plain": [
       "[[1],\n",
       " [1, 2],\n",
       " [1, 2, 3],\n",
       " [1, 2, 3, 4],\n",
       " [1, 2, 3, 4, 5],\n",
       " [2],\n",
       " [2, 3],\n",
       " [2, 3, 4],\n",
       " [2, 3, 4, 5],\n",
       " [3],\n",
       " [3, 4],\n",
       " [3, 4, 5],\n",
       " [4],\n",
       " [4, 5],\n",
       " [5]]"
      ]
     },
     "execution_count": 74,
     "metadata": {},
     "output_type": "execute_result"
    }
   ],
   "source": [
    "# Helper function to produce contiguous subarrays\n",
    "def contig_subarrays(arr):\n",
    "    return [arr[i:i+j] for i in range(0,len(arr)) for j in range(1,len(arr)-i+1)]\n",
    "\n",
    "# def contig_subarrays2(arr):\n",
    "#    subarrays = []\n",
    "#    for i in range(len(arr)):\n",
    "#        for j in range(1,len(arr)-i+1):\n",
    "#            print(\"i: {}. j: {}. subarray to append: {}.\".format(i,j,arr[i:i+j]))\n",
    "#            subarrays.append(arr[i:i+j])\n",
    "#    return subarrays\n",
    "\n",
    "contig_subarrays([1,2,3,4,5])\n",
    "contig_subarrays2([1,2,3,4,5])"
   ]
  },
  {
   "cell_type": "code",
   "execution_count": 75,
   "metadata": {},
   "outputs": [
    {
     "name": "stdout",
     "output_type": "stream",
     "text": [
      "{'1': 1, '1, 2': 3, '1, 2, 3': 6, '1, 2, 3, -4': 2, '1, 2, 3, -4, 6': 8, '2': 2, '2, 3': 5, '2, 3, -4': 1, '2, 3, -4, 6': 7, '3': 3, '3, -4': -1, '3, -4, 6': 5, '-4': -4, '-4, 6': 2, '6': 6}\n"
     ]
    },
    {
     "data": {
      "text/plain": [
       "8"
      ]
     },
     "execution_count": 75,
     "metadata": {},
     "output_type": "execute_result"
    }
   ],
   "source": [
    "def max_sum_subarray(arr):\n",
    "    \"\"\"\n",
    "    :param - arr - input array\n",
    "    return - number - largest sum in contiguous subarry within arr\n",
    "    \"\"\"\n",
    "    # Produce a list of contiguous subarrays\n",
    "    subarrays = contig_subarrays(arr)\n",
    "\n",
    "    # Produce a sum for each subarray and append to list\n",
    "    dict = {}\n",
    "    for subarray in subarrays:\n",
    "        subarray_str = ', '.join(map(str,subarray))\n",
    "        subarray_sum = 0\n",
    "        for number in subarray:\n",
    "            subarray_sum += number\n",
    "        dict[subarray_str] = dict.get(subarray_str, 0) + subarray_sum\n",
    "    print(dict)\n",
    "\n",
    "    # Return maximum value from the list\n",
    "    return max(dict.values())\n",
    "\n",
    "arr= [1, 2, 3, -4, 6]\n",
    "max_sum_subarray(arr)"
   ]
  },
  {
   "cell_type": "markdown",
   "metadata": {
    "graffitiCellId": "id_qy59phn"
   },
   "source": [
    "<span class=\"graffiti-highlight graffiti-id_qy59phn-id_3hqoizc\"><i></i><button>Show Solution</button></span>"
   ]
  },
  {
   "cell_type": "code",
   "execution_count": null,
   "metadata": {},
   "outputs": [],
   "source": [
    "# Solution\n",
    "'''\n",
    "The Idea:\n",
    "1. We have to find the sum of \"contiguous\" subarray, therefore we must not change the order of array elements.\n",
    "2. Let `current_sum` denotes the sum of a subarray, and `max_sum` denotes the maximum value of `current_sum`.\n",
    "3. LOOP STARTS: For each element of the array, update the `current_sum` with the MAXIMUM of either:\n",
    " - The element added to the `current_sum` (denotes the addition of the element to the current subarray)\n",
    " - The element itself  (denotes the starting of a new subarray)\n",
    " - Update (overwrite) `max_sum`, if it is lower than the updated `current_sum`\n",
    "4. Return `max_sum`\n",
    "'''\n",
    "\n",
    "def max_sum_subarray(arr):\n",
    "    \n",
    "    current_sum = arr[0] # `current_sum` denotes the sum of a subarray\n",
    "    max_sum = arr[0]     # `max_sum` denotes the maximum value of `current_sum` ever\n",
    "    \n",
    "    # Loop from VALUE at index position 1 till the end of the array\n",
    "    for element in arr[1:]:\n",
    "        \n",
    "        '''\n",
    "        # Compare (current_sum + element) vs (element)\n",
    "        # If (current_sum + element) is higher, it denotes the addition of the element to the current subarray\n",
    "        # If (element) alone is higher, it denotes the starting of a new subarray\n",
    "        '''\n",
    "        current_sum = max(current_sum + element, element)\n",
    "        \n",
    "        # Update (overwrite) `max_sum`, if it is lower than the updated `current_sum`\n",
    "        max_sum = max(current_sum, max_sum)   \n",
    "    \n",
    "    return max_sum"
   ]
  },
  {
   "cell_type": "code",
   "execution_count": 76,
   "metadata": {
    "graffitiCellId": "id_x2c4yaf"
   },
   "outputs": [],
   "source": [
    "def test_function(test_case):\n",
    "    arr = test_case[0]\n",
    "    solution = test_case[1]\n",
    "    \n",
    "    output = max_sum_subarray(arr)\n",
    "    if output == solution:\n",
    "        print(\"Pass\")\n",
    "    else:\n",
    "        print(\"Fail\")"
   ]
  },
  {
   "cell_type": "code",
   "execution_count": 77,
   "metadata": {
    "graffitiCellId": "id_ocg7bal"
   },
   "outputs": [
    {
     "name": "stdout",
     "output_type": "stream",
     "text": [
      "{'1': 1, '1, 2': 3, '1, 2, 3': 6, '1, 2, 3, -4': 2, '1, 2, 3, -4, 6': 8, '2': 2, '2, 3': 5, '2, 3, -4': 1, '2, 3, -4, 6': 7, '3': 3, '3, -4': -1, '3, -4, 6': 5, '-4': -4, '-4, 6': 2, '6': 6}\n",
      "Pass\n"
     ]
    }
   ],
   "source": [
    "arr= [1, 2, 3, -4, 6]\n",
    "solution= 8 # sum of array\n",
    "\n",
    "test_case = [arr, solution]\n",
    "test_function(test_case)"
   ]
  },
  {
   "cell_type": "code",
   "execution_count": 78,
   "metadata": {
    "graffitiCellId": "id_vepfpek"
   },
   "outputs": [
    {
     "name": "stdout",
     "output_type": "stream",
     "text": [
      "{'1': 2, '1, 2': 3, '1, 2, -5': -2, '1, 2, -5, -4': -6, '1, 2, -5, -4, 1': -5, '1, 2, -5, -4, 1, 6': 1, '2': 2, '2, -5': -3, '2, -5, -4': -7, '2, -5, -4, 1': -6, '2, -5, -4, 1, 6': 0, '-5': -5, '-5, -4': -9, '-5, -4, 1': -8, '-5, -4, 1, 6': -2, '-4': -4, '-4, 1': -3, '-4, 1, 6': 3, '1, 6': 7, '6': 6}\n",
      "Pass\n"
     ]
    }
   ],
   "source": [
    "arr = [1, 2, -5, -4, 1, 6]\n",
    "solution = 7   # sum of last two elements\n",
    "\n",
    "test_case = [arr, solution]\n",
    "test_function(test_case)"
   ]
  },
  {
   "cell_type": "code",
   "execution_count": 79,
   "metadata": {
    "graffitiCellId": "id_78na1mt"
   },
   "outputs": [
    {
     "name": "stdout",
     "output_type": "stream",
     "text": [
      "{'-12': -12, '-12, 15': 3, '-12, 15, -13': -10, '-12, 15, -13, 14': 4, '-12, 15, -13, 14, -1': 3, '-12, 15, -13, 14, -1, 2': 5, '-12, 15, -13, 14, -1, 2, 1': 6, '-12, 15, -13, 14, -1, 2, 1, -5': 1, '-12, 15, -13, 14, -1, 2, 1, -5, 4': 5, '15': 15, '15, -13': 2, '15, -13, 14': 16, '15, -13, 14, -1': 15, '15, -13, 14, -1, 2': 17, '15, -13, 14, -1, 2, 1': 18, '15, -13, 14, -1, 2, 1, -5': 13, '15, -13, 14, -1, 2, 1, -5, 4': 17, '-13': -13, '-13, 14': 1, '-13, 14, -1': 0, '-13, 14, -1, 2': 2, '-13, 14, -1, 2, 1': 3, '-13, 14, -1, 2, 1, -5': -2, '-13, 14, -1, 2, 1, -5, 4': 2, '14': 14, '14, -1': 13, '14, -1, 2': 15, '14, -1, 2, 1': 16, '14, -1, 2, 1, -5': 11, '14, -1, 2, 1, -5, 4': 15, '-1': -1, '-1, 2': 1, '-1, 2, 1': 2, '-1, 2, 1, -5': -3, '-1, 2, 1, -5, 4': 1, '2': 2, '2, 1': 3, '2, 1, -5': -2, '2, 1, -5, 4': 2, '1': 1, '1, -5': -4, '1, -5, 4': 0, '-5': -5, '-5, 4': -1, '4': 4}\n",
      "Pass\n"
     ]
    }
   ],
   "source": [
    "arr = [-12, 15, -13, 14, -1, 2, 1, -5, 4]\n",
    "solution = 18  # sum of subarray = [15, -13, 14, -1, 2, 1]\n",
    "\n",
    "test_case = [arr, solution]\n",
    "test_function(test_case)"
   ]
  }
 ],
 "metadata": {
  "graffiti": {
   "firstAuthorId": "dev",
   "id": "id_jzh7rvz",
   "language": "EN"
  },
  "interpreter": {
   "hash": "aee8b7b246df8f9039afb4144a1f6fd8d2ca17a180786b69acc140d282b71a49"
  },
  "kernelspec": {
   "display_name": "Python 3.10.0 64-bit",
   "name": "python3"
  },
  "language_info": {
   "codemirror_mode": {
    "name": "ipython",
    "version": 3
   },
   "file_extension": ".py",
   "mimetype": "text/x-python",
   "name": "python",
   "nbconvert_exporter": "python",
   "pygments_lexer": "ipython3",
   "version": "3.10.0"
  }
 },
 "nbformat": 4,
 "nbformat_minor": 2
}
