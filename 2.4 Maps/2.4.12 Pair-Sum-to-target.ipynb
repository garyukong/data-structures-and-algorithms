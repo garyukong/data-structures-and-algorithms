{
 "cells": [
  {
   "cell_type": "markdown",
   "metadata": {
    "graffitiCellId": "id_486zult"
   },
   "source": [
    "### Problem statement\n",
    "\n",
    "Given an `input_list` and a `target`, return the pair of indices in the list that holds the values which sum to the `target`. For example, \n",
    "\n",
    "`input_list = [1, 5, 9, 7]` and `target = 8`, the answer would be `[0, 3]` \n",
    "\n",
    "**Note**<br>\n",
    "1. The best solution takes O(n) time. *This means that you cannot traverse the given list more than once.* **Hint - Think of an additional data structure that you should use here.** \n",
    "2. You can assume that the list does not have any duplicates."
   ]
  },
  {
   "cell_type": "code",
   "execution_count": 51,
   "metadata": {
    "graffitiCellId": "id_fq96qkf"
   },
   "outputs": [],
   "source": [
    "def pair_sum_to_target(input_list, target):\n",
    "    from itertools import combinations\n",
    "    \n",
    "    # Generate index combinations\n",
    "    dict = {}\n",
    "    for (i, a), (j, b) in combinations(enumerate(input_list), 2):\n",
    "        dict[a+b] = i,j\n",
    "\n",
    "    # Lookup the dictionary using the target\n",
    "    return dict[target]"
   ]
  },
  {
   "cell_type": "code",
   "execution_count": 46,
   "metadata": {
    "graffitiCellId": "id_gxkqfwu"
   },
   "outputs": [],
   "source": [
    "def test_function(test_case):\n",
    "    output = pair_sum_to_target(test_case[0], test_case[1])\n",
    "    print(output)\n",
    "    if sorted(output) == test_case[2]:\n",
    "        print(\"Pass\")\n",
    "    else:\n",
    "        print(\"Fail\")"
   ]
  },
  {
   "cell_type": "code",
   "execution_count": 47,
   "metadata": {
    "graffitiCellId": "id_fqo2ly7"
   },
   "outputs": [
    {
     "name": "stdout",
     "output_type": "stream",
     "text": [
      "(0, 3)\n",
      "Pass\n"
     ]
    }
   ],
   "source": [
    "test_case_1 = [[1, 5, 9, 7], 8, [0, 3]]\n",
    "test_function(test_case_1)"
   ]
  },
  {
   "cell_type": "code",
   "execution_count": 23,
   "metadata": {
    "graffitiCellId": "id_38rw3d3"
   },
   "outputs": [
    {
     "name": "stdout",
     "output_type": "stream",
     "text": [
      "Indices: [(0, 1), (0, 2), (0, 3), (0, 4), (0, 5), (0, 6), (0, 7), (1, 2), (1, 3), (1, 4), (1, 5), (1, 6), (1, 7), (2, 3), (2, 4), (2, 5), (2, 6), (2, 7), (3, 4), (3, 5), (3, 6), (3, 7), (4, 5), (4, 6), (4, 7), (5, 6), (5, 7), (6, 7)]\n",
      "Combinations: [(10, 5), (10, 9), (10, 8), (10, 12), (10, 1), (10, 16), (10, 6), (5, 9), (5, 8), (5, 12), (5, 1), (5, 16), (5, 6), (9, 8), (9, 12), (9, 1), (9, 16), (9, 6), (8, 12), (8, 1), (8, 16), (8, 6), (12, 1), (12, 16), (12, 6), (1, 16), (1, 6), (16, 6)]\n",
      "Combination sums: [15, 19, 18, 22, 11, 26, 16, 14, 13, 17, 6, 21, 11, 17, 21, 10, 25, 15, 20, 9, 24, 14, 13, 28, 18, 17, 7, 22]\n",
      "Dictionary: {15: (0, 1), 19: (0, 2), 18: (0, 3), 22: (0, 4), 11: (0, 5), 26: (0, 6), 16: (0, 7), 14: (1, 2)}\n",
      "(0, 7)\n",
      "Pass\n"
     ]
    }
   ],
   "source": [
    "test_case_2 = [[10, 5, 9, 8, 12, 1, 16, 6], 16, [0, 7]]\n",
    "test_function(test_case_2)"
   ]
  },
  {
   "cell_type": "code",
   "execution_count": 24,
   "metadata": {
    "graffitiCellId": "id_lrl4kfz"
   },
   "outputs": [
    {
     "name": "stdout",
     "output_type": "stream",
     "text": [
      "Indices: [(0, 1), (0, 2), (0, 3), (0, 4), (1, 2), (1, 3), (1, 4), (2, 3), (2, 4), (3, 4)]\n",
      "Combinations: [(0, 1), (0, 2), (0, 3), (0, -4), (1, 2), (1, 3), (1, -4), (2, 3), (2, -4), (3, -4)]\n",
      "Combination sums: [1, 2, 3, -4, 3, 4, -3, 5, -2, -1]\n",
      "Dictionary: {1: (0, 1), 2: (0, 2), 3: (1, 2), -4: (0, 4)}\n",
      "(0, 4)\n",
      "Pass\n"
     ]
    }
   ],
   "source": [
    "test_case_3 = [[0, 1, 2, 3, -4], -4, [0, 4]]\n",
    "test_function(test_case_3)"
   ]
  },
  {
   "cell_type": "markdown",
   "metadata": {
    "graffitiCellId": "id_snm0ke6"
   },
   "source": [
    "<span class=\"graffiti-highlight graffiti-id_snm0ke6-id_tv0tye7\"><i></i><button>Show Solution</button></span>"
   ]
  }
 ],
 "metadata": {
  "graffiti": {
   "firstAuthorId": "10694620118",
   "id": "id_vvgwoq6",
   "language": "EN"
  },
  "kernelspec": {
   "display_name": "Python 3",
   "language": "python",
   "name": "python3"
  },
  "language_info": {
   "codemirror_mode": {
    "name": "ipython",
    "version": 3
   },
   "file_extension": ".py",
   "mimetype": "text/x-python",
   "name": "python",
   "nbconvert_exporter": "python",
   "pygments_lexer": "ipython3",
   "version": "3.10.0"
  }
 },
 "nbformat": 4,
 "nbformat_minor": 2
}
