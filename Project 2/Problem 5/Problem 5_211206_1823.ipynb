{
 "cells": [
  {
   "cell_type": "markdown",
   "metadata": {},
   "source": [
    "# Blockchain"
   ]
  },
  {
   "cell_type": "markdown",
   "metadata": {},
   "source": [
    "A Blockchain is a sequential chain of records, similar to a linked list. Each block contains some information and how it is connected related to the other blocks in the chain. Each block contains a cryptographic hash of the previous block, a timestamp, and transaction data. For our blockchain we will be using a SHA-256 hash, the Greenwich Mean Time when the block was created, and text strings as the data.\n",
    "\n",
    "Use your knowledge of linked lists and hashing to create a blockchain implementation."
   ]
  },
  {
   "cell_type": "markdown",
   "metadata": {},
   "source": [
    "1 - Create block class"
   ]
  },
  {
   "cell_type": "code",
   "execution_count": 186,
   "metadata": {},
   "outputs": [],
   "source": [
    "import hashlib\n",
    "\n",
    "import datetime\n",
    "\n",
    "class Block():\n",
    "    \n",
    "    def __init__(self, data):\n",
    "        self.timestamp = self.calc_timestamp()\n",
    "        self.data = data\n",
    "        self.previous_hash = 0\n",
    "        self.hash = self.calc_hash()\n",
    "        self.next = None\n",
    "\n",
    "    def calc_timestamp(self):\n",
    "        \"\"\" Returns the current timestamp \"\"\"\n",
    "        return datetime.datetime.now()\n",
    "\n",
    "    def set_data(self, data):\n",
    "        self.data = data\n",
    "    \n",
    "    def set_previous_hash(self, previous_hash):\n",
    "        self.previous_hash = previous_hash\n",
    "\n",
    "    def calc_hash(self):\n",
    "        \"\"\" Returns the hash to create a new block \"\"\"\n",
    "        sha = hashlib.sha256()\n",
    "        hash_str = self.data.encode('utf-8')\n",
    "        sha.update(hash_str)\n",
    "        return sha.hexdigest()\n",
    "\n",
    "    def __repr__(self):\n",
    "        return (f\"\"\"Timestamp: {self.timestamp}. Data: {self.data}. Previous Hash: {self.previous_hash}. Hash: {self.hash}\"\"\")\n",
    "\n",
    "    def __str__(self):\n",
    "        return (f\"\"\"Timestamp: {self.timestamp}. Data: {self.data}. Previous Hash: {self.previous_hash}. Hash: {self.hash}\"\"\")"
   ]
  },
  {
   "cell_type": "code",
   "execution_count": 130,
   "metadata": {},
   "outputs": [
    {
     "name": "stdout",
     "output_type": "stream",
     "text": [
      "Timestamp: 2021-12-08 18:18:52.368210. Data: 123. Previous Hash: 0. Hash: a20200a94c75010576e2d6a83e6fa69271901a9d805894b28bd91e6054fbfd10\n",
      "Timestamp: 2021-12-08 18:18:52.368210. Data: 123. Previous Hash: 0. Hash: a20200a94c75010576e2d6a83e6fa69271901a9d805894b28bd91e6054fbfd10\n"
     ]
    }
   ],
   "source": [
    "# Test that the block works\n",
    "block = Block(123)\n",
    "print(block)\n",
    "blockstring = str(block)\n",
    "print(blockstring)"
   ]
  },
  {
   "cell_type": "markdown",
   "metadata": {},
   "source": [
    "2 - Create blockchain"
   ]
  },
  {
   "cell_type": "code",
   "execution_count": 188,
   "metadata": {},
   "outputs": [],
   "source": [
    "class Blockchain():\n",
    "\n",
    "    def __init__(self):\n",
    "        self.head = None\n",
    "\n",
    "    def prepend(self, data):\n",
    "        \"\"\" Prepend a block to the beginning of the list \"\"\"\n",
    "        new_head = Block(data)\n",
    "\n",
    "        # If there are no blocks in the blockchain, set new block as the head\n",
    "        if self.head is None:\n",
    "            self.head = new_head\n",
    "            return\n",
    "\n",
    "        # Otherwise:\n",
    "        else:\n",
    "            # Set the previous hash of the current head as the new head's hash\n",
    "            self.head.previous_hash = new_head.hash\n",
    "\n",
    "            # Set the new head to point to the current head\n",
    "            new_head.next = self.head\n",
    "\n",
    "            # Set the new head as the current head\n",
    "            self.head = new_head\n",
    "            return\n",
    "\n",
    "    def __repr__(self):\n",
    "        current_block = self.head\n",
    "        output_list = []\n",
    "        while current_block:\n",
    "            output_list.append(str(current_block))\n",
    "            current_block = current_block.next\n",
    "        return str(output_list)"
   ]
  },
  {
   "cell_type": "code",
   "execution_count": null,
   "metadata": {},
   "outputs": [],
   "source": [
    "class Blockchain():\n",
    "\n",
    "    def __init__(self):\n",
    "        self.tail = None\n",
    "\n",
    "    def append(self, data):\n",
    "        \"\"\" Append a block to the beginning of the list \"\"\"\n",
    "        new_tail = Block(data)\n",
    "\n",
    "        # If there are no blocks in the blockchain, set new block as the tail\n",
    "        if self.tail is None:\n",
    "            self.tail = new_tail\n",
    "            return\n",
    "\n",
    "        # Otherwise:\n",
    "        else:\n",
    "            # Set the previous hash of the current head as the new head's hash\n",
    "            self.head.previous_hash = new_head.hash\n",
    "\n",
    "            # Set the new head to point to the current head\n",
    "            new_head.next = self.head\n",
    "\n",
    "            # Set the new head as the current head\n",
    "            self.head = new_head\n",
    "            return\n",
    "\n",
    "    def __repr__(self):\n",
    "        current_block = self.head\n",
    "        output_list = []\n",
    "        while current_block:\n",
    "            output_list.append(str(current_block))\n",
    "            current_block = current_block.next\n",
    "        return str(output_list)"
   ]
  },
  {
   "cell_type": "code",
   "execution_count": 196,
   "metadata": {},
   "outputs": [
    {
     "name": "stdout",
     "output_type": "stream",
     "text": [
      "75a0287d28f4c5c6081e15fecea43433c7d0a23ea1228b0a5a01e32fe6c958a7\n",
      "04aed8d235963c79bde1028a5504ab1ca8a4108a1500fb9a5d0fb7d36010f164\n",
      "['Timestamp: 2021-12-08 18:25:52.734594. Data: This is the second block to be added. Previous Hash: 0. Hash: 04aed8d235963c79bde1028a5504ab1ca8a4108a1500fb9a5d0fb7d36010f164', 'Timestamp: 2021-12-08 18:25:52.734128. Data: This is the first block to be added. Previous Hash: 04aed8d235963c79bde1028a5504ab1ca8a4108a1500fb9a5d0fb7d36010f164. Hash: 75a0287d28f4c5c6081e15fecea43433c7d0a23ea1228b0a5a01e32fe6c958a7']\n"
     ]
    }
   ],
   "source": [
    "def prepend(self, data):\n",
    "    \"\"\" Prepend a block to the beginning of the list \"\"\"\n",
    "    new_head = Block(data)\n",
    "\n",
    "    # If there are no blocks in the blockchain, set new block as the head\n",
    "    if self.head is None:\n",
    "        self.head = new_head\n",
    "        return\n",
    "\n",
    "    # Otherwise:\n",
    "    else:\n",
    "        # Set the previous hash of the current head as the new head's hash\n",
    "        self.head.previous_hash = new_head.hash\n",
    "\n",
    "        # Set the new head to point to the current head\n",
    "        new_head.next = self.head\n",
    "\n",
    "        # Set the new head as the current head\n",
    "        self.head = new_head\n",
    "        return"
   ]
  },
  {
   "cell_type": "code",
   "execution_count": null,
   "metadata": {},
   "outputs": [],
   "source": [
    "class Blockchain():\n",
    "\n",
    "    def __init__(self):\n",
    "        self.head = None\n",
    "\n",
    "    def prepend(self, data):\n",
    "        \"\"\" Prepend a block to the beginning of the list \"\"\"\n",
    "        new_head = Block(data)\n",
    "\n",
    "        # If there are no blocks in the blockchain, set new block as the head\n",
    "        if self.head is None:\n",
    "            self.head = new_head\n",
    "            return\n",
    "\n",
    "        # Otherwise:\n",
    "        else:\n",
    "            # Set the previous hash of the current head as the new head's hash\n",
    "            self.head.previous_hash = new_head.hash\n",
    "\n",
    "            # Set the new head to point to the current head\n",
    "            new_head.next = self.head\n",
    "\n",
    "            # Set the new head as the current head\n",
    "            self.head = new_head\n",
    "            return\n",
    "\n",
    "    def __repr__(self):\n",
    "        current_block = self.head\n",
    "        output_list = []\n",
    "        while current_block:\n",
    "            output_list.append(str(current_block))\n",
    "            current_block = current_block.next\n",
    "        return str(output_list)"
   ]
  },
  {
   "cell_type": "markdown",
   "metadata": {},
   "source": [
    "3 - Append"
   ]
  },
  {
   "cell_type": "code",
   "execution_count": 61,
   "metadata": {},
   "outputs": [],
   "source": [
    "#----------------------------------------------------#\n"
   ]
  },
  {
   "cell_type": "code",
   "execution_count": null,
   "metadata": {},
   "outputs": [],
   "source": []
  },
  {
   "cell_type": "markdown",
   "metadata": {},
   "source": [
    "# Reference Functions"
   ]
  },
  {
   "cell_type": "code",
   "execution_count": 8,
   "metadata": {},
   "outputs": [],
   "source": [
    "#----------------------------------------------------#\n",
    "def prepend(self, timestamp, data):\n",
    "    \"\"\" Prepend a block to the beginning of the list \"\"\"\n",
    "    if self.head is None:\n",
    "        self.head = Node(value)\n",
    "        return\n",
    "\n",
    "    new_head = Node(value)\n",
    "    new_head.next = self.head\n",
    "    self.head = new_head"
   ]
  },
  {
   "cell_type": "code",
   "execution_count": null,
   "metadata": {},
   "outputs": [],
   "source": [
    "#----------------------------------------------------#\n",
    "def append(self, value):\n",
    "    \"\"\" Append a block to the end of the list \"\"\"\n",
    "    if self.head is None:\n",
    "        self.head = Node(value)\n",
    "        return\n",
    "\n",
    "    node = self.head\n",
    "    while node.next:\n",
    "        node = node.next\n",
    "\n",
    "    node.next = Node(value)"
   ]
  },
  {
   "cell_type": "code",
   "execution_count": null,
   "metadata": {},
   "outputs": [],
   "source": [
    "\n",
    "#----------------------------------------------------#\n",
    "def search(self, value):\n",
    "    \"\"\" Search the linked list for a block with the requested hash and return the block \"\"\"\n",
    "    if self.head is None:\n",
    "        return None\n",
    "\n",
    "    node = self.head\n",
    "    while node:\n",
    "        if node.value == value:\n",
    "            return node\n",
    "        node = node.next\n",
    "\n",
    "    raise ValueError(\"Value not found in the list.\")"
   ]
  },
  {
   "cell_type": "code",
   "execution_count": null,
   "metadata": {},
   "outputs": [],
   "source": [
    "\n",
    "#----------------------------------------------------#\n",
    "def remove(self, value):\n",
    "    \"\"\" Delete the first block with the desired data. \"\"\"\n",
    "    if self.head is None:\n",
    "        return\n",
    "\n",
    "    if self.head.value == value:\n",
    "        self.head = self.head.next\n",
    "        return\n",
    "\n",
    "    node = self.head\n",
    "    while node.next:\n",
    "        if node.next.value == value:\n",
    "            node.next = node.next.next\n",
    "            return\n",
    "        node = node.next\n",
    "\n",
    "    raise ValueError(\"Value not found in the list.\")"
   ]
  },
  {
   "cell_type": "code",
   "execution_count": null,
   "metadata": {},
   "outputs": [],
   "source": [
    "\n",
    "#----------------------------------------------------#\n",
    "def pop(self):\n",
    "    \"\"\" Return the first block's value and remove it from the list. \"\"\"\n",
    "    if self.head is None:\n",
    "        return None\n",
    "\n",
    "    node = self.head\n",
    "    self.head = self.head.next\n",
    "\n",
    "    return node.value"
   ]
  },
  {
   "cell_type": "code",
   "execution_count": 6,
   "metadata": {},
   "outputs": [],
   "source": [
    "\n",
    "#----------------------------------------------------#\n",
    "def insert(self, value, pos):\n",
    "    \"\"\" Insert value at pos position in the block. If pos is larger than the\n",
    "        length of the list, append to the end of the list. \"\"\"\n",
    "    # If the list is empty \n",
    "    if self.head is None:\n",
    "        self.head = Node(value)\n",
    "        return\n",
    "        \n",
    "    if pos == 0:\n",
    "        self.prepend(value)\n",
    "        return\n",
    "\n",
    "    index = 0\n",
    "    node = self.head\n",
    "    while node.next and index <= pos:\n",
    "        if (pos - 1) == index:\n",
    "            new_node = Node(value)\n",
    "            new_node.next = node.next\n",
    "            node.next = new_node\n",
    "            return\n",
    "\n",
    "        index += 1\n",
    "        node = node.next\n",
    "    else:\n",
    "        self.append(value)\n",
    "    "
   ]
  },
  {
   "cell_type": "code",
   "execution_count": 7,
   "metadata": {},
   "outputs": [],
   "source": [
    "        \n",
    "#----------------------------------------------------#\n",
    "def size(self):\n",
    "    \"\"\" Return the size or length of the linked list. \"\"\"\n",
    "    size = 0\n",
    "    node = self.head\n",
    "    while node:\n",
    "        size += 1\n",
    "        node = node.next\n",
    "\n",
    "    return size"
   ]
  },
  {
   "cell_type": "code",
   "execution_count": null,
   "metadata": {},
   "outputs": [],
   "source": [
    "#----------------------------------------------------#\n",
    "def __repr__(self):\n",
    "    out = []\n",
    "    node = self.head\n",
    "    while node:\n",
    "        out.append(node.value)\n",
    "        node = node.next\n",
    "    return out"
   ]
  }
 ],
 "metadata": {
  "interpreter": {
   "hash": "aee8b7b246df8f9039afb4144a1f6fd8d2ca17a180786b69acc140d282b71a49"
  },
  "kernelspec": {
   "display_name": "Python 3.10.0 64-bit",
   "language": "python",
   "name": "python3"
  },
  "language_info": {
   "codemirror_mode": {
    "name": "ipython",
    "version": 3
   },
   "file_extension": ".py",
   "mimetype": "text/x-python",
   "name": "python",
   "nbconvert_exporter": "python",
   "pygments_lexer": "ipython3",
   "version": "3.10.0"
  },
  "orig_nbformat": 4
 },
 "nbformat": 4,
 "nbformat_minor": 2
}
